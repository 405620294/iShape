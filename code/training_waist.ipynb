{
  "nbformat": 4,
  "nbformat_minor": 0,
  "metadata": {
    "accelerator": "GPU",
    "colab": {
      "name": "waist_統整_八種演算法.ipynb",
      "provenance": [],
      "collapsed_sections": [],
      "include_colab_link": true
    },
    "kernelspec": {
      "display_name": "Python 3",
      "name": "python3"
    },
    "language_info": {
      "name": "python"
    }
  },
  "cells": [
    {
      "cell_type": "markdown",
      "metadata": {
        "id": "view-in-github",
        "colab_type": "text"
      },
      "source": [
        "<a href=\"https://colab.research.google.com/github/405620294/iShape/blob/main/training_waist.ipynb\" target=\"_parent\"><img src=\"https://colab.research.google.com/assets/colab-badge.svg\" alt=\"Open In Colab\"/></a>"
      ]
    },
    {
      "cell_type": "code",
      "metadata": {
        "colab": {
          "base_uri": "https://localhost:8080/"
        },
        "id": "IgUtmPM_XJ0l",
        "outputId": "b360a906-ac2f-4867-a0f6-cfc65fc41416"
      },
      "source": [
        "# connect your google drive，please follow the steps\n",
        "from google.colab import drive\n",
        "drive.mount('/content/drive')"
      ],
      "execution_count": 34,
      "outputs": [
        {
          "output_type": "stream",
          "text": [
            "Drive already mounted at /content/drive; to attempt to forcibly remount, call drive.mount(\"/content/drive\", force_remount=True).\n"
          ],
          "name": "stdout"
        }
      ]
    },
    {
      "cell_type": "code",
      "metadata": {
        "id": "SQorTNDIfVvZ"
      },
      "source": [
        "# before run this ipynb, u need to notice that:\n",
        "# 1. dataframe are sort as follows ：['age', 'height', 'weight', 'chest_width_cm', 'waist_width_cm', 'hip_width_cm', 'bmi']\n",
        "# 2. choose a Normalization which u want to do at KNN Regression block，　and all the linear egression are use the same scaler\n",
        "# 3. before predict data，please define model_name = the algorithm which u want to use"
      ],
      "execution_count": 35,
      "outputs": []
    },
    {
      "cell_type": "markdown",
      "metadata": {
        "id": "WSTPB_53z0zG"
      },
      "source": [
        "# github dataset >> train 8 model to predict waist by 8 algorithm\n"
      ]
    },
    {
      "cell_type": "markdown",
      "metadata": {
        "id": "VUpm5t15o5y7"
      },
      "source": [
        "## raw ( original dataset ) >> df ( preprocessed dataset ) >> df_input ( filtered column dataframe ) >> slicing target ( x_df / y_df )"
      ]
    },
    {
      "cell_type": "code",
      "metadata": {
        "id": "w4P3R7sWYQlY"
      },
      "source": [
        "import pandas as pd\n",
        "bw_df =  pd.read_csv(\"/content/drive/Shareddrives/AI_Python/ishape/ai/step1/hps_output/body_width.csv\", encoding=\"utf-8\")"
      ],
      "execution_count": 36,
      "outputs": []
    },
    {
      "cell_type": "markdown",
      "metadata": {
        "id": "WEfP_YV0BaSd"
      },
      "source": [
        "# data preprocessing"
      ]
    },
    {
      "cell_type": "code",
      "metadata": {
        "id": "loqQkSFeZ81y",
        "colab": {
          "base_uri": "https://localhost:8080/"
        },
        "outputId": "326768a8-78bc-49bd-ad0a-7fe98cf1c947"
      },
      "source": [
        "### preprocessing  ###\n",
        "\n",
        "bw_df = bw_df[['org_img', 'age', 'gender', 'race', 'height', 'weight', 'chest_width_cm', 'waist_width_cm', 'hip_width_cm', 'chest', 'waist', 'hips', 'bfp', 'source']]\n",
        "\n",
        "# missing value >> delete all\n",
        "bw_df.dropna(axis=0, how='any', inplace=True)\n",
        "\n",
        "# gender m:0 f:1 >> don't need to one-hot-encoding\n",
        "dic = { 'm' : 0, 'f' : 1}\n",
        "bw_df['gender'] = bw_df['gender'].replace(dic)\n",
        "\n",
        "# race e:0 w:1 >> don't need to one-hot-encoding\n",
        "dic = { 'e' : 0, 'w' : 1}\n",
        "bw_df['race'] = bw_df['race'].replace(dic)\n",
        "\n",
        "# height(cm) >> m^2\n",
        "def t_m2(t):\n",
        "  t = t / 100\n",
        "  return t * t\n",
        "m2 = bw_df['height'].apply(t_m2)\n",
        "\n",
        "# add column bmi\n",
        "bw_df['bmi'] = bw_df['weight'] / m2\n",
        "\n",
        "print('bw_df has', len(bw_df), 'rows')"
      ],
      "execution_count": 37,
      "outputs": [
        {
          "output_type": "stream",
          "text": [
            "bw_df has 262 rows\n"
          ],
          "name": "stdout"
        }
      ]
    },
    {
      "cell_type": "markdown",
      "metadata": {
        "id": "uKj7N1R36bO1"
      },
      "source": [
        "# data screening"
      ]
    },
    {
      "cell_type": "code",
      "metadata": {
        "id": "LaFogFXz0mog",
        "colab": {
          "base_uri": "https://localhost:8080/"
        },
        "outputId": "9bac7218-b65f-4b57-90ea-b6bb630752fb"
      },
      "source": [
        "### condition screening (Select the data for training) ###\n",
        "df = bw_df\n",
        "\n",
        "# filter gender column(m:0 f:1)\n",
        "# delete_idx = df.loc[df[\"gender\"] == 0].index.tolist() # 去掉以下欄位\n",
        "# df = df.drop(index=delete_idx)\n",
        "\n",
        "# filter race column(e:0 w:1)\n",
        "# delete_idx = df.loc[df[\"race\"] == 1].index.tolist() # 去掉以下欄位\n",
        "# df = df.drop(index=delete_idx)\n",
        "\n",
        "# filter source column\n",
        "c = '水下秤重'\n",
        "delete_idx = df.loc[df[\"source\"] != c].index.tolist() \n",
        "df = df.drop(index=delete_idx)\n",
        "\n",
        "print('df has', len(df), 'rows')"
      ],
      "execution_count": 38,
      "outputs": [
        {
          "output_type": "stream",
          "text": [
            "df has 251 rows\n"
          ],
          "name": "stdout"
        }
      ]
    },
    {
      "cell_type": "markdown",
      "metadata": {
        "id": "_m7wuYNsr8ph"
      },
      "source": [
        "# column screening"
      ]
    },
    {
      "cell_type": "code",
      "metadata": {
        "colab": {
          "base_uri": "https://localhost:8080/"
        },
        "id": "jl9-stOUr8Qj",
        "outputId": "58724d64-01ed-4162-9eac-208d0576f8a0"
      },
      "source": [
        "### column delete (delete the column don't need to training) ###\n",
        "\n",
        "df_input = df.drop(['bfp', 'org_img', 'gender', 'race', 'source'], axis=1)\n",
        "\n",
        "print('complete the selection of data， df_input has', len(df_input), 'row')\n",
        "print(\"df_input' s columns :\", df_input.columns)"
      ],
      "execution_count": 39,
      "outputs": [
        {
          "output_type": "stream",
          "text": [
            "complete the selection of data， df_input has 251 row\n",
            "df_input' s columns : Index(['age', 'height', 'weight', 'chest_width_cm', 'waist_width_cm',\n",
            "       'hip_width_cm', 'chest', 'waist', 'hips', 'bmi'],\n",
            "      dtype='object')\n"
          ],
          "name": "stdout"
        }
      ]
    },
    {
      "cell_type": "markdown",
      "metadata": {
        "id": "A2tdwOe9zsDj"
      },
      "source": [
        "# preparation of training data & data slice"
      ]
    },
    {
      "cell_type": "code",
      "metadata": {
        "id": "7Cm2w6b_aCFx"
      },
      "source": [
        "x_df = df_input[['age', 'height', 'weight', 'chest_width_cm', 'waist_width_cm', 'hip_width_cm', 'bmi']] # 欄位排序\n",
        "y_df = df_input['waist']"
      ],
      "execution_count": 40,
      "outputs": []
    },
    {
      "cell_type": "code",
      "metadata": {
        "id": "wnvFr5cLaCi0",
        "colab": {
          "base_uri": "https://localhost:8080/"
        },
        "outputId": "81f48123-a158-4d85-9b23-41327a67006b"
      },
      "source": [
        "print(' training data: x_df has', len(x_df), 'rows, and columns : ', x_df.columns)\n",
        "print(' training data: y_df has', len(y_df), 'rows, and columns : ', y_df.name)"
      ],
      "execution_count": 41,
      "outputs": [
        {
          "output_type": "stream",
          "text": [
            " training data: x_df has 251 rows, and columns :  Index(['age', 'height', 'weight', 'chest_width_cm', 'waist_width_cm',\n",
            "       'hip_width_cm', 'bmi'],\n",
            "      dtype='object')\n",
            " training data: y_df has 251 rows, and columns :  waist\n"
          ],
          "name": "stdout"
        }
      ]
    },
    {
      "cell_type": "code",
      "metadata": {
        "id": "IWXCXMBOzMQN"
      },
      "source": [
        "# data slice\n",
        "import numpy as np\n",
        "from sklearn.model_selection import train_test_split\n",
        "x_train, x_test, y_train, y_test = train_test_split(np.array(x_df), np.array(y_df), test_size=0.1)"
      ],
      "execution_count": 42,
      "outputs": []
    },
    {
      "cell_type": "code",
      "metadata": {
        "id": "2EczPfve6FgX"
      },
      "source": [
        "from sklearn.metrics import r2_score, mean_absolute_error, mean_squared_error\n",
        "from sklearn.model_selection import GridSearchCV, cross_val_score"
      ],
      "execution_count": 43,
      "outputs": []
    },
    {
      "cell_type": "markdown",
      "metadata": {
        "id": "8Ykvq2IIzKUN"
      },
      "source": [
        "# Regression Tree"
      ]
    },
    {
      "cell_type": "code",
      "metadata": {
        "colab": {
          "base_uri": "https://localhost:8080/"
        },
        "id": "RlTS743gzSDV",
        "outputId": "9e38405d-fa78-4cc9-ea82-a2e641e52695"
      },
      "source": [
        "### dt ###\n",
        "\n",
        "from sklearn.tree import DecisionTreeRegressor\n",
        "\n",
        "dt = DecisionTreeRegressor()\n",
        "params = {\"max_depth\":range(3, 10)} # the search range of Grid Search\n",
        "grid = GridSearchCV(dt, params, cv=10, n_jobs=-1, scoring=\"neg_root_mean_squared_error\")\n",
        "grid.fit(x_df, y_df)\n",
        "print('the best max depth of DecisionTreeRegressor is ', grid.best_params_)\n",
        "\n",
        "dt = DecisionTreeRegressor(max_depth = grid.best_params_['max_depth'])\n",
        "dt.fit(x_df, y_df)\n",
        "pre = dt.predict(x_df)\n",
        "print('dt_r2: ', r2_score(y_df, pre))\n",
        "print('dt_MAE: ', mean_absolute_error(y_df, pre))\n",
        "print('dt_MSE: ', mean_squared_error(y_df, pre))\n",
        "\n",
        "dt = DecisionTreeRegressor(max_depth = grid.best_params_['max_depth'])\n",
        "# Evaluate a score by cross-validation\n",
        "dt_cross_r2 = cross_val_score(dt, x_df, y_df, cv=10, n_jobs=-1, scoring='r2')\n",
        "dt_cross_RMSE = cross_val_score(dt, x_df, y_df, cv=10, n_jobs=-1, scoring='neg_root_mean_squared_error')\n",
        "\n",
        "\n",
        "dt_dic = {\n",
        "    'name' : 'dt',\n",
        "    'R2' : np.average(dt_cross_r2),\n",
        "    'RMSE' : np.average(dt_cross_RMSE)\n",
        "}\n",
        "\n",
        "dt.fit(x_df, y_df)"
      ],
      "execution_count": 44,
      "outputs": [
        {
          "output_type": "stream",
          "text": [
            "the best max depth of DecisionTreeRegressor is  {'max_depth': 6}\n",
            "dt_r2:  0.9709593351812661\n",
            "dt_MAE:  1.2408517386386986\n",
            "dt_MSE:  3.0183233846841477\n"
          ],
          "name": "stdout"
        },
        {
          "output_type": "execute_result",
          "data": {
            "text/plain": [
              "DecisionTreeRegressor(ccp_alpha=0.0, criterion='mse', max_depth=6,\n",
              "                      max_features=None, max_leaf_nodes=None,\n",
              "                      min_impurity_decrease=0.0, min_impurity_split=None,\n",
              "                      min_samples_leaf=1, min_samples_split=2,\n",
              "                      min_weight_fraction_leaf=0.0, presort='deprecated',\n",
              "                      random_state=None, splitter='best')"
            ]
          },
          "metadata": {
            "tags": []
          },
          "execution_count": 44
        }
      ]
    },
    {
      "cell_type": "markdown",
      "metadata": {
        "id": "buS8jwcv5SUa"
      },
      "source": [
        "# Random Forests Regression"
      ]
    },
    {
      "cell_type": "code",
      "metadata": {
        "colab": {
          "base_uri": "https://localhost:8080/"
        },
        "id": "j_RDD4K8zRPd",
        "outputId": "f740e2fb-e37e-43c6-c7f3-e13c626f90fd"
      },
      "source": [
        "### rf ###\n",
        "\n",
        "from sklearn.ensemble import RandomForestRegressor\n",
        "\n",
        "# find the best estimators & max depth of rf\n",
        "rf = RandomForestRegressor()\n",
        "params = {\n",
        "    \"n_estimators\":range(10, 101, 2),\n",
        "    \"max_depth\":range(3, 10)\n",
        "}\n",
        "grid = GridSearchCV(rf, params, cv=10, n_jobs=-1, scoring=\"neg_root_mean_squared_error\")\n",
        "grid.fit(x_df, y_df)\n",
        "print('best_score : ', grid.best_score_, 'the best params of DecisionTreeRegressor : ', grid.best_params_)\n",
        "\n",
        "\n",
        "rf = RandomForestRegressor(n_estimators=grid.best_params_['n_estimators'], max_depth = grid.best_params_['max_depth'])\n",
        "\n",
        "# Evaluate a score by cross-validation\n",
        "rf_cross_r2 = cross_val_score(rf, x_df, y_df, cv=10, n_jobs=-1, scoring='r2')\n",
        "rf_cross_RMSE = cross_val_score(rf, x_df, y_df, cv=10, n_jobs=-1, scoring='neg_root_mean_squared_error')\n",
        "\n",
        "rf_dic = {\n",
        "    'name' : 'rf',\n",
        "    'R2' : np.average(rf_cross_r2),\n",
        "    'RMSE' : np.average(rf_cross_RMSE)\n",
        "}\n",
        "\n",
        "rf.fit(x_df, y_df)"
      ],
      "execution_count": 45,
      "outputs": [
        {
          "output_type": "stream",
          "text": [
            "best_score :  -3.089085344228818 the best params of DecisionTreeRegressor :  {'max_depth': 8, 'n_estimators': 40}\n"
          ],
          "name": "stdout"
        },
        {
          "output_type": "execute_result",
          "data": {
            "text/plain": [
              "RandomForestRegressor(bootstrap=True, ccp_alpha=0.0, criterion='mse',\n",
              "                      max_depth=8, max_features='auto', max_leaf_nodes=None,\n",
              "                      max_samples=None, min_impurity_decrease=0.0,\n",
              "                      min_impurity_split=None, min_samples_leaf=1,\n",
              "                      min_samples_split=2, min_weight_fraction_leaf=0.0,\n",
              "                      n_estimators=40, n_jobs=None, oob_score=False,\n",
              "                      random_state=None, verbose=0, warm_start=False)"
            ]
          },
          "metadata": {
            "tags": []
          },
          "execution_count": 45
        }
      ]
    },
    {
      "cell_type": "code",
      "metadata": {
        "id": "X48o9H3gpPWM",
        "colab": {
          "base_uri": "https://localhost:8080/",
          "height": 267
        },
        "outputId": "e06c9e7e-293f-42eb-809a-bb33a7823b2b"
      },
      "source": [
        "#找出 隨機森林特徵的重要性\n",
        "pd.DataFrame(rf.feature_importances_, \n",
        "       columns=[\"Importance\"],\n",
        "       index=x_df.keys()).sort_values(by=\"Importance\", ascending=False)\n",
        "       #ascending=False降冪排列"
      ],
      "execution_count": 46,
      "outputs": [
        {
          "output_type": "execute_result",
          "data": {
            "text/html": [
              "<div>\n",
              "<style scoped>\n",
              "    .dataframe tbody tr th:only-of-type {\n",
              "        vertical-align: middle;\n",
              "    }\n",
              "\n",
              "    .dataframe tbody tr th {\n",
              "        vertical-align: top;\n",
              "    }\n",
              "\n",
              "    .dataframe thead th {\n",
              "        text-align: right;\n",
              "    }\n",
              "</style>\n",
              "<table border=\"1\" class=\"dataframe\">\n",
              "  <thead>\n",
              "    <tr style=\"text-align: right;\">\n",
              "      <th></th>\n",
              "      <th>Importance</th>\n",
              "    </tr>\n",
              "  </thead>\n",
              "  <tbody>\n",
              "    <tr>\n",
              "      <th>waist_width_cm</th>\n",
              "      <td>0.685939</td>\n",
              "    </tr>\n",
              "    <tr>\n",
              "      <th>bmi</th>\n",
              "      <td>0.225813</td>\n",
              "    </tr>\n",
              "    <tr>\n",
              "      <th>weight</th>\n",
              "      <td>0.041125</td>\n",
              "    </tr>\n",
              "    <tr>\n",
              "      <th>chest_width_cm</th>\n",
              "      <td>0.020556</td>\n",
              "    </tr>\n",
              "    <tr>\n",
              "      <th>age</th>\n",
              "      <td>0.010157</td>\n",
              "    </tr>\n",
              "    <tr>\n",
              "      <th>hip_width_cm</th>\n",
              "      <td>0.009651</td>\n",
              "    </tr>\n",
              "    <tr>\n",
              "      <th>height</th>\n",
              "      <td>0.006760</td>\n",
              "    </tr>\n",
              "  </tbody>\n",
              "</table>\n",
              "</div>"
            ],
            "text/plain": [
              "                Importance\n",
              "waist_width_cm    0.685939\n",
              "bmi               0.225813\n",
              "weight            0.041125\n",
              "chest_width_cm    0.020556\n",
              "age               0.010157\n",
              "hip_width_cm      0.009651\n",
              "height            0.006760"
            ]
          },
          "metadata": {
            "tags": []
          },
          "execution_count": 46
        }
      ]
    },
    {
      "cell_type": "markdown",
      "metadata": {
        "id": "0Kr4YpnkQHlg"
      },
      "source": [
        "# SVR Regression"
      ]
    },
    {
      "cell_type": "code",
      "metadata": {
        "id": "p_XYCNzkzWD2",
        "colab": {
          "base_uri": "https://localhost:8080/"
        },
        "outputId": "462a7e36-9c18-4c50-c68d-644c53ec5978"
      },
      "source": [
        "### svr regression ###\n",
        "from sklearn.svm import SVR\n",
        "linear_svr = SVR(kernel='linear') \n",
        "poly_svr = SVR(kernel='poly') \n",
        "rbf_svr = SVR(kernel='rbf', C=100)\n",
        "\n",
        "# Evaluate a score by cross-validation\n",
        "linear_svr_r2 = cross_val_score(linear_svr, np.array(x_df), np.array(y_df), cv=10, scoring=\"r2\") \n",
        "linear_svr_RMSE = cross_val_score(linear_svr, np.array(x_df), np.array(y_df), cv=10, scoring=\"neg_root_mean_squared_error\")\n",
        "\n",
        "linear_svr_dic = {\n",
        "    'name' : 'linear_svr',\n",
        "    'R2' : np.average(linear_svr_r2),\n",
        "    'RMSE' : np.average(linear_svr_RMSE)\n",
        "}\n",
        "\n",
        "poly_svr_r2 = cross_val_score(poly_svr, np.array(x_df), np.array(y_df), cv=10, scoring=\"r2\") \n",
        "poly_svr_RMSE = cross_val_score(poly_svr, np.array(x_df), np.array(y_df), cv=10, scoring=\"neg_root_mean_squared_error\") \n",
        "\n",
        "poly_svr_dic = {\n",
        "    'name' : 'poly_svr',\n",
        "    'R2' : np.average(poly_svr_r2),\n",
        "    'RMSE' : np.average(poly_svr_RMSE)\n",
        "}\n",
        "\n",
        "rbf_svr_r2 = cross_val_score(rbf_svr, np.array(x_df), np.array(y_df), cv=10, scoring=\"r2\") \n",
        "rbf_svr_RMSE = cross_val_score(rbf_svr, np.array(x_df), np.array(y_df), cv=10, scoring=\"neg_root_mean_squared_error\")\n",
        "\n",
        "rbf_svr_dic = {\n",
        "    'name' : 'rbf_svr',\n",
        "    'R2' : np.average(rbf_svr_r2),\n",
        "    'RMSE' : np.average(rbf_svr_RMSE)\n",
        "}\n",
        "\n",
        "linear_svr.fit(x_df, y_df)\n",
        "poly_svr.fit(x_df, y_df)\n",
        "rbf_svr.fit(x_df, y_df)"
      ],
      "execution_count": 47,
      "outputs": [
        {
          "output_type": "execute_result",
          "data": {
            "text/plain": [
              "SVR(C=100, cache_size=200, coef0=0.0, degree=3, epsilon=0.1, gamma='scale',\n",
              "    kernel='rbf', max_iter=-1, shrinking=True, tol=0.001, verbose=False)"
            ]
          },
          "metadata": {
            "tags": []
          },
          "execution_count": 47
        }
      ]
    },
    {
      "cell_type": "markdown",
      "metadata": {
        "id": "bxAkRY9pDWEC"
      },
      "source": [
        "# KNN Regression"
      ]
    },
    {
      "cell_type": "code",
      "metadata": {
        "id": "2j5gScANDu6h",
        "colab": {
          "base_uri": "https://localhost:8080/"
        },
        "outputId": "e649612f-3e2c-4475-d0ad-9f72e6e8917b"
      },
      "source": [
        "# prepare another dataset for KNN & linear ( cause data needs to Normalization before training) \n",
        "from sklearn.preprocessing import RobustScaler, MaxAbsScaler, MinMaxScaler, StandardScaler\n",
        "def do_scaler(name, input_df):\n",
        "  scaler = name()\n",
        "  scaler.fit(input_df)\n",
        "  return scaler\n",
        "\n",
        "# choose a Normalization which u want to do by yourself !\n",
        "scaler = MinMaxScaler # u can choose : RobustScaler, MaxAbsScaler, MinMaxScaler, StandardScaler\n",
        "\n",
        "df_need_scaler = df_input.drop(['chest', 'waist', 'hips'], axis=1)\n",
        "knn_scaler = do_scaler(scaler, df_need_scaler) # fit the scaler\n",
        "scalered_df = pd.DataFrame(knn_scaler.transform(df_need_scaler), columns = df_need_scaler.columns) # transform the dataframe\n",
        "print(\"the'\", df_need_scaler.columns , \"'column，already do\", scaler)"
      ],
      "execution_count": 48,
      "outputs": [
        {
          "output_type": "stream",
          "text": [
            "the' Index(['age', 'height', 'weight', 'chest_width_cm', 'waist_width_cm',\n",
            "       'hip_width_cm', 'bmi'],\n",
            "      dtype='object') 'column，already do <class 'sklearn.preprocessing._data.MinMaxScaler'>\n"
          ],
          "name": "stdout"
        }
      ]
    },
    {
      "cell_type": "code",
      "metadata": {
        "colab": {
          "base_uri": "https://localhost:8080/"
        },
        "id": "op77BFHzHgYj",
        "outputId": "68565101-5998-4a46-a7ce-80c627142a18"
      },
      "source": [
        "x_df = scalered_df[['age', 'height', 'weight', 'chest_width_cm', 'waist_width_cm', 'hip_width_cm', 'bmi']] # colimn sort\n",
        "y_df = df_input['waist']\n",
        "\n",
        "print(' training data: x_df has', len(x_df), 'rows, and columns : ', x_df.columns)\n",
        "print(' training data: y_df has', len(y_df), 'rows, and columns : ', y_df.name)"
      ],
      "execution_count": 49,
      "outputs": [
        {
          "output_type": "stream",
          "text": [
            " training data: x_df has 251 rows, and columns :  Index(['age', 'height', 'weight', 'chest_width_cm', 'waist_width_cm',\n",
            "       'hip_width_cm', 'bmi'],\n",
            "      dtype='object')\n",
            " training data: y_df has 251 rows, and columns :  waist\n"
          ],
          "name": "stdout"
        }
      ]
    },
    {
      "cell_type": "code",
      "metadata": {
        "id": "_Zj8yLv5IISm"
      },
      "source": [
        "x_train, x_test, y_train, y_test = train_test_split(np.array(x_df), np.array(y_df), test_size=0.1)"
      ],
      "execution_count": 50,
      "outputs": []
    },
    {
      "cell_type": "code",
      "metadata": {
        "id": "Nr1IXe5izT9F",
        "colab": {
          "base_uri": "https://localhost:8080/"
        },
        "outputId": "5c39a707-9e9a-4257-da5e-4a68ccd38bb1"
      },
      "source": [
        "### knn ###\n",
        "from sklearn.neighbors import KNeighborsRegressor\n",
        "\n",
        "knn = KNeighborsRegressor()\n",
        "params = {\"n_neighbors\":range(1, 50)}\n",
        "grid = GridSearchCV(knn, params, cv=10, n_jobs=-1, scoring='neg_root_mean_squared_error')\n",
        "grid.fit(x_df, y_df)\n",
        "print('the best n of KNN is ', grid.best_params_)\n",
        "\n",
        "# Evaluate a score by cross-validation\n",
        "knn_cross_r2 = cross_val_score(knn, x_df, y_df, cv=10, n_jobs=-1, scoring='r2')\n",
        "knn_cross_RMSE = cross_val_score(knn, x_df, y_df, cv=10, n_jobs=-1, scoring='neg_root_mean_squared_error')\n",
        "\n",
        "knn_dic = {\n",
        "    'name' : 'knn',\n",
        "    'R2' : np.average(knn_cross_r2),\n",
        "    'RMSE' : np.average(knn_cross_RMSE)\n",
        "}\n",
        "\n",
        "knn.fit(x_df, y_df)"
      ],
      "execution_count": 51,
      "outputs": [
        {
          "output_type": "stream",
          "text": [
            "the best n of KNN is  {'n_neighbors': 7}\n"
          ],
          "name": "stdout"
        },
        {
          "output_type": "execute_result",
          "data": {
            "text/plain": [
              "KNeighborsRegressor(algorithm='auto', leaf_size=30, metric='minkowski',\n",
              "                    metric_params=None, n_jobs=None, n_neighbors=5, p=2,\n",
              "                    weights='uniform')"
            ]
          },
          "metadata": {
            "tags": []
          },
          "execution_count": 51
        }
      ]
    },
    {
      "cell_type": "markdown",
      "metadata": {
        "id": "54xjh2q5QeoI"
      },
      "source": [
        "# Linear Regression"
      ]
    },
    {
      "cell_type": "code",
      "metadata": {
        "colab": {
          "base_uri": "https://localhost:8080/"
        },
        "id": "9VGrR1p-axXl",
        "outputId": "e9df2fb9-2432-49b7-9774-86c0a89c0406"
      },
      "source": [
        "# prepare another dataset cause datas' distribution needs to be normal before trainning any Linear Regression)\n",
        "\n",
        "# defined function for find the skewness of each columns\n",
        "from scipy.stats import skew\n",
        "def getskew(series):\n",
        "  return skew(series.dropna() + 1)\n",
        "\n",
        "# defined function for adjust skewed to normal\n",
        "from scipy.stats import boxcox_normmax\n",
        "def get_lamda(s):\n",
        "  lamda = boxcox_normmax(s.dropna() + 1)\n",
        "  return lamda\n",
        "\n",
        "from scipy.special import boxcox1p, inv_boxcox1p\n",
        "def sk_normal(s):\n",
        "  lamda = boxcox_normmax(s.dropna() + 1)\n",
        "  return boxcox1p(s, lamda)\n",
        "\n",
        "\n",
        "# check the the skewness of each columns\n",
        "column = df_input.columns \n",
        "skewness = (df_input[column].apply(getskew).sort_values(ascending=False))\n",
        "print(skewness)\n",
        "\n",
        "# get each columns' lamda & let series change to dictionary\n",
        "lamdas = df_input[column].apply(get_lamda)\n",
        "lamdas = lamdas.to_dict()\n",
        "\n",
        "# adjust skewed to normal\n",
        "df_input[column] = df_input[column].apply(sk_normal)\n",
        "skewness = (df_input[column].apply(getskew).sort_values(ascending=False))\n",
        "print('after adjust skewed')\n",
        "print(skewness)"
      ],
      "execution_count": 52,
      "outputs": [
        {
          "output_type": "stream",
          "text": [
            "bmi               0.713082\n",
            "hip_width_cm      0.543655\n",
            "hips              0.493493\n",
            "chest             0.478005\n",
            "chest_width_cm    0.468446\n",
            "waist             0.405025\n",
            "weight            0.358957\n",
            "waist_width_cm    0.331246\n",
            "age               0.282339\n",
            "height            0.110810\n",
            "dtype: float64\n",
            "after adjust skewed\n",
            "age               0.023249\n",
            "hip_width_cm      0.021719\n",
            "waist_width_cm    0.008794\n",
            "chest             0.004731\n",
            "waist             0.002116\n",
            "weight            0.000183\n",
            "height           -0.002526\n",
            "bmi              -0.005223\n",
            "hips             -0.009498\n",
            "chest_width_cm   -0.010964\n",
            "dtype: float64\n"
          ],
          "name": "stdout"
        },
        {
          "output_type": "stream",
          "text": [
            "/usr/local/lib/python3.7/dist-packages/scipy/stats/stats.py:3508: PearsonRConstantInputWarning: An input array is constant; the correlation coefficent is not defined.\n",
            "  warnings.warn(PearsonRConstantInputWarning())\n",
            "/usr/local/lib/python3.7/dist-packages/scipy/stats/stats.py:3538: PearsonRNearConstantInputWarning: An input array is nearly constant; the computed correlation coefficent may be inaccurate.\n",
            "  warnings.warn(PearsonRNearConstantInputWarning())\n"
          ],
          "name": "stderr"
        }
      ]
    },
    {
      "cell_type": "code",
      "metadata": {
        "colab": {
          "base_uri": "https://localhost:8080/"
        },
        "id": "NLhHacR2suXq",
        "outputId": "ba39c1ee-37df-451d-c993-d171aa1292ad"
      },
      "source": [
        "# prepare target variable and Scaler input variable\n",
        "\n",
        "df_need_scaler = df_input.drop(['chest', 'waist', 'hips'], axis=1)\n",
        "# you already choosed the Normalization at the KNN Regression block\n",
        "linear_scaler = do_scaler(scaler, df_need_scaler) # fit the scaler\n",
        "scalered_df = pd.DataFrame(linear_scaler.fit_transform(df_need_scaler), columns = df_need_scaler.columns) # transform t\n",
        "print(\"the'\", df_need_scaler.columns , \"'column，already do\", scaler)"
      ],
      "execution_count": 53,
      "outputs": [
        {
          "output_type": "stream",
          "text": [
            "the' Index(['age', 'height', 'weight', 'chest_width_cm', 'waist_width_cm',\n",
            "       'hip_width_cm', 'bmi'],\n",
            "      dtype='object') 'column，already do <class 'sklearn.preprocessing._data.MinMaxScaler'>\n"
          ],
          "name": "stdout"
        }
      ]
    },
    {
      "cell_type": "code",
      "metadata": {
        "colab": {
          "base_uri": "https://localhost:8080/"
        },
        "id": "WreMPVrXqqcT",
        "outputId": "bc14c76c-d1cb-47ab-8c36-f565774ef84b"
      },
      "source": [
        "x_df = scalered_df[['age', 'height', 'weight', 'chest_width_cm', 'waist_width_cm', 'hip_width_cm', 'bmi']] # colimn sort\n",
        "y_df = df_input['waist']\n",
        "\n",
        "print(' training data: x_df has', len(x_df), 'rows, and columns : ', x_df.columns)\n",
        "print(' training data: y_df has', len(y_df), 'rows, and columns : ', y_df.name)"
      ],
      "execution_count": 54,
      "outputs": [
        {
          "output_type": "stream",
          "text": [
            " training data: x_df has 251 rows, and columns :  Index(['age', 'height', 'weight', 'chest_width_cm', 'waist_width_cm',\n",
            "       'hip_width_cm', 'bmi'],\n",
            "      dtype='object')\n",
            " training data: y_df has 251 rows, and columns :  waist\n"
          ],
          "name": "stdout"
        }
      ]
    },
    {
      "cell_type": "code",
      "metadata": {
        "id": "9EFddqNc8NIL"
      },
      "source": [
        "x_train, x_test, y_train, y_test = train_test_split(np.array(x_df), np.array(y_df), test_size=0.1)"
      ],
      "execution_count": 55,
      "outputs": []
    },
    {
      "cell_type": "code",
      "metadata": {
        "colab": {
          "base_uri": "https://localhost:8080/"
        },
        "id": "NIhu1rpMcA2M",
        "outputId": "12a2c090-27da-42ab-b0d8-f82c01e40681"
      },
      "source": [
        "# linear ###\n",
        "from sklearn.linear_model import LinearRegression\n",
        "linear = LinearRegression()\n",
        "linear_cross_r2 = cross_val_score(linear, x_df, y_df, cv=10, n_jobs=-1, scoring='r2')\n",
        "linear_cross_RMSE = cross_val_score(linear, x_df, y_df, cv=10, n_jobs=-1, scoring='neg_root_mean_squared_error')\n",
        "\n",
        "linear_dic = {\n",
        "    'name' : 'linear',\n",
        "    'R2' : np.average(linear_cross_r2),\n",
        "    'RMSE' : np.average(linear_cross_RMSE)\n",
        "}\n",
        "\n",
        "linear.fit(x_df, y_df)"
      ],
      "execution_count": 56,
      "outputs": [
        {
          "output_type": "execute_result",
          "data": {
            "text/plain": [
              "LinearRegression(copy_X=True, fit_intercept=True, n_jobs=None, normalize=False)"
            ]
          },
          "metadata": {
            "tags": []
          },
          "execution_count": 56
        }
      ]
    },
    {
      "cell_type": "code",
      "metadata": {
        "colab": {
          "base_uri": "https://localhost:8080/",
          "height": 267
        },
        "id": "-3HkX_Ez-8By",
        "outputId": "6811161e-4935-46a9-9047-37189740b1fc"
      },
      "source": [
        "coeffecients = pd.DataFrame(linear.coef_,x_df.columns)\n",
        "coeffecients.columns = ['Coeffecient'] \n",
        "coeffecients"
      ],
      "execution_count": 57,
      "outputs": [
        {
          "output_type": "execute_result",
          "data": {
            "text/html": [
              "<div>\n",
              "<style scoped>\n",
              "    .dataframe tbody tr th:only-of-type {\n",
              "        vertical-align: middle;\n",
              "    }\n",
              "\n",
              "    .dataframe tbody tr th {\n",
              "        vertical-align: top;\n",
              "    }\n",
              "\n",
              "    .dataframe thead th {\n",
              "        text-align: right;\n",
              "    }\n",
              "</style>\n",
              "<table border=\"1\" class=\"dataframe\">\n",
              "  <thead>\n",
              "    <tr style=\"text-align: right;\">\n",
              "      <th></th>\n",
              "      <th>Coeffecient</th>\n",
              "    </tr>\n",
              "  </thead>\n",
              "  <tbody>\n",
              "    <tr>\n",
              "      <th>age</th>\n",
              "      <td>0.005017</td>\n",
              "    </tr>\n",
              "    <tr>\n",
              "      <th>height</th>\n",
              "      <td>-0.019704</td>\n",
              "    </tr>\n",
              "    <tr>\n",
              "      <th>weight</th>\n",
              "      <td>0.050307</td>\n",
              "    </tr>\n",
              "    <tr>\n",
              "      <th>chest_width_cm</th>\n",
              "      <td>-0.049109</td>\n",
              "    </tr>\n",
              "    <tr>\n",
              "      <th>waist_width_cm</th>\n",
              "      <td>0.094294</td>\n",
              "    </tr>\n",
              "    <tr>\n",
              "      <th>hip_width_cm</th>\n",
              "      <td>0.001582</td>\n",
              "    </tr>\n",
              "    <tr>\n",
              "      <th>bmi</th>\n",
              "      <td>-0.022743</td>\n",
              "    </tr>\n",
              "  </tbody>\n",
              "</table>\n",
              "</div>"
            ],
            "text/plain": [
              "                Coeffecient\n",
              "age                0.005017\n",
              "height            -0.019704\n",
              "weight             0.050307\n",
              "chest_width_cm    -0.049109\n",
              "waist_width_cm     0.094294\n",
              "hip_width_cm       0.001582\n",
              "bmi               -0.022743"
            ]
          },
          "metadata": {
            "tags": []
          },
          "execution_count": 57
        }
      ]
    },
    {
      "cell_type": "markdown",
      "metadata": {
        "id": "Je-vEAiW-GRg"
      },
      "source": [
        "# Lasso Regression"
      ]
    },
    {
      "cell_type": "code",
      "metadata": {
        "id": "U5hAuELOzX29",
        "colab": {
          "base_uri": "https://localhost:8080/"
        },
        "outputId": "445263cc-9934-4538-b731-3e1ecd88bbbb"
      },
      "source": [
        "### lasso ### \n",
        "from sklearn.linear_model import LassoCV, RidgeCV, ElasticNetCV\n",
        "from sklearn.linear_model import Lasso, Ridge, ElasticNet\n",
        "\n",
        "cv = LassoCV(cv=10)\n",
        "cv.fit(x_df, y_df)\n",
        "print('LassoCV', cv.alpha_)\n",
        "lasso = Lasso(cv.alpha_)\n",
        "lasso_cross_r2 = cross_val_score(lasso, x_df, y_df, cv=10, n_jobs=-1, scoring='r2')\n",
        "lasso_cross_RMSE = cross_val_score(lasso, x_df, y_df, cv=10, n_jobs=-1, scoring='neg_root_mean_squared_error')\n",
        "\n",
        "lasso_dic = {\n",
        "    'name' : 'lasso',\n",
        "    'R2' : np.average(lasso_cross_r2),\n",
        "    'RMSE' : np.average(lasso_cross_RMSE)\n",
        "}\n",
        "\n",
        "lasso.fit(x_df, y_df)"
      ],
      "execution_count": 58,
      "outputs": [
        {
          "output_type": "stream",
          "text": [
            "LassoCV 4.284269821794573e-06\n"
          ],
          "name": "stdout"
        },
        {
          "output_type": "execute_result",
          "data": {
            "text/plain": [
              "Lasso(alpha=4.284269821794573e-06, copy_X=True, fit_intercept=True,\n",
              "      max_iter=1000, normalize=False, positive=False, precompute=False,\n",
              "      random_state=None, selection='cyclic', tol=0.0001, warm_start=False)"
            ]
          },
          "metadata": {
            "tags": []
          },
          "execution_count": 58
        }
      ]
    },
    {
      "cell_type": "markdown",
      "metadata": {
        "id": "ekefSYs9-A7g"
      },
      "source": [
        "# Ridge Regression"
      ]
    },
    {
      "cell_type": "code",
      "metadata": {
        "id": "uhX6kUbFzZhN",
        "colab": {
          "base_uri": "https://localhost:8080/"
        },
        "outputId": "033ae707-2a7f-4c7f-ce0a-d60d406835ca"
      },
      "source": [
        "### ridge ###\n",
        "\n",
        "cv = RidgeCV(cv=10)\n",
        "cv.fit(x_df, y_df)\n",
        "print(cv.alpha_)\n",
        "\n",
        "ridge = Ridge(cv.alpha_)\n",
        "ridge_cross_r2 = cross_val_score(ridge, x_df, y_df, cv=10, n_jobs=-1, scoring='r2')\n",
        "ridge_cross_RMSE = cross_val_score(ridge, x_df, y_df, cv=10, n_jobs=-1, scoring='neg_root_mean_squared_error')\n",
        "\n",
        "ridge_dic = {\n",
        "    'name' : 'ridge',\n",
        "    'R2' : np.average(ridge_cross_r2),\n",
        "    'RMSE' : np.average(ridge_cross_RMSE)\n",
        "}\n",
        "\n",
        "ridge.fit(x_df, y_df)"
      ],
      "execution_count": 59,
      "outputs": [
        {
          "output_type": "stream",
          "text": [
            "0.1\n"
          ],
          "name": "stdout"
        },
        {
          "output_type": "execute_result",
          "data": {
            "text/plain": [
              "Ridge(alpha=0.1, copy_X=True, fit_intercept=True, max_iter=None,\n",
              "      normalize=False, random_state=None, solver='auto', tol=0.001)"
            ]
          },
          "metadata": {
            "tags": []
          },
          "execution_count": 59
        }
      ]
    },
    {
      "cell_type": "markdown",
      "metadata": {
        "id": "Qvc4fJd196km"
      },
      "source": [
        "# Elastic Net Regression"
      ]
    },
    {
      "cell_type": "code",
      "metadata": {
        "id": "tRbCeWpezbT9",
        "colab": {
          "base_uri": "https://localhost:8080/"
        },
        "outputId": "4bc3bb91-69aa-465b-d7b1-b95b9250faeb"
      },
      "source": [
        "### ElasticNet ###\n",
        "cv = ElasticNetCV(cv=10)\n",
        "cv.fit(x_df, y_df)\n",
        "print(cv.alpha_)\n",
        "\n",
        "elastic = ElasticNet(cv.alpha_)\n",
        "\n",
        "elastic_cross_r2 = cross_val_score(elastic, x_df, y_df, cv=10, n_jobs=-1, scoring='r2')\n",
        "elastic_cross_RMSE = cross_val_score(elastic, x_df, y_df, cv=10, n_jobs=-1, scoring='neg_root_mean_squared_error')\n",
        "\n",
        "elastic_dic = {\n",
        "    'name' : 'elastic',\n",
        "    'R2' : np.average(elastic_cross_r2),\n",
        "    'RMSE' : np.average(elastic_cross_RMSE)\n",
        "}\n",
        "\n",
        "elastic.fit(x_df, y_df)"
      ],
      "execution_count": 60,
      "outputs": [
        {
          "output_type": "stream",
          "text": [
            "7.991048749512792e-06\n"
          ],
          "name": "stdout"
        },
        {
          "output_type": "execute_result",
          "data": {
            "text/plain": [
              "ElasticNet(alpha=7.991048749512792e-06, copy_X=True, fit_intercept=True,\n",
              "           l1_ratio=0.5, max_iter=1000, normalize=False, positive=False,\n",
              "           precompute=False, random_state=None, selection='cyclic', tol=0.0001,\n",
              "           warm_start=False)"
            ]
          },
          "metadata": {
            "tags": []
          },
          "execution_count": 60
        }
      ]
    },
    {
      "cell_type": "markdown",
      "metadata": {
        "id": "pJ0nCWrRy_Gd"
      },
      "source": [
        "# cross-validation"
      ]
    },
    {
      "cell_type": "code",
      "metadata": {
        "id": "x5Op__upcb0S"
      },
      "source": [
        "table = pd.DataFrame.from_dict(dt_dic,orient='index').T\n",
        "for i in [rf_dic, linear_svr_dic, poly_svr_dic, rbf_svr_dic, knn_dic, linear_dic, lasso_dic, ridge_dic, elastic_dic]:\n",
        "  a = pd.DataFrame.from_dict(i, orient='index').T\n",
        "  table = pd.concat([table, a], axis=0, ignore_index=True)"
      ],
      "execution_count": 61,
      "outputs": []
    },
    {
      "cell_type": "code",
      "metadata": {
        "colab": {
          "base_uri": "https://localhost:8080/",
          "height": 470
        },
        "id": "tqjZBN5KcdWi",
        "outputId": "6c37dfdf-7971-4091-b66b-25f50d5cda74"
      },
      "source": [
        "# cross-validation ( CV = 10 ) \n",
        "\n",
        "print('linear, Lasso, Ridge and ElasticNet had adjusted skewed to normal')\n",
        "print('knn, linear, Lasso, Ridge and ElasticNet had adjusted the range with' , scaler)\n",
        "print(' training data: x_df has', len(x_df), 'rows, and columns : ', x_df.columns)\n",
        "print(' training data: y_df has', len(y_df), 'rows, and columns : ', y_df.name)\n",
        "table"
      ],
      "execution_count": 62,
      "outputs": [
        {
          "output_type": "stream",
          "text": [
            "linear, Lasso, Ridge and ElasticNet had adjusted skewed to normal\n",
            "knn, linear, Lasso, Ridge and ElasticNet had adjusted the range with <class 'sklearn.preprocessing._data.MinMaxScaler'>\n",
            " training data: x_df has 251 rows, and columns :  Index(['age', 'height', 'weight', 'chest_width_cm', 'waist_width_cm',\n",
            "       'hip_width_cm', 'bmi'],\n",
            "      dtype='object')\n",
            " training data: y_df has 251 rows, and columns :  waist\n"
          ],
          "name": "stdout"
        },
        {
          "output_type": "execute_result",
          "data": {
            "text/html": [
              "<div>\n",
              "<style scoped>\n",
              "    .dataframe tbody tr th:only-of-type {\n",
              "        vertical-align: middle;\n",
              "    }\n",
              "\n",
              "    .dataframe tbody tr th {\n",
              "        vertical-align: top;\n",
              "    }\n",
              "\n",
              "    .dataframe thead th {\n",
              "        text-align: right;\n",
              "    }\n",
              "</style>\n",
              "<table border=\"1\" class=\"dataframe\">\n",
              "  <thead>\n",
              "    <tr style=\"text-align: right;\">\n",
              "      <th></th>\n",
              "      <th>name</th>\n",
              "      <th>R2</th>\n",
              "      <th>RMSE</th>\n",
              "    </tr>\n",
              "  </thead>\n",
              "  <tbody>\n",
              "    <tr>\n",
              "      <th>0</th>\n",
              "      <td>dt</td>\n",
              "      <td>0.773627</td>\n",
              "      <td>-3.74871</td>\n",
              "    </tr>\n",
              "    <tr>\n",
              "      <th>1</th>\n",
              "      <td>rf</td>\n",
              "      <td>0.830648</td>\n",
              "      <td>-3.18012</td>\n",
              "    </tr>\n",
              "    <tr>\n",
              "      <th>2</th>\n",
              "      <td>linear_svr</td>\n",
              "      <td>0.903871</td>\n",
              "      <td>-2.514</td>\n",
              "    </tr>\n",
              "    <tr>\n",
              "      <th>3</th>\n",
              "      <td>poly_svr</td>\n",
              "      <td>0.783393</td>\n",
              "      <td>-3.75317</td>\n",
              "    </tr>\n",
              "    <tr>\n",
              "      <th>4</th>\n",
              "      <td>rbf_svr</td>\n",
              "      <td>0.847276</td>\n",
              "      <td>-3.03619</td>\n",
              "    </tr>\n",
              "    <tr>\n",
              "      <th>5</th>\n",
              "      <td>knn</td>\n",
              "      <td>0.765462</td>\n",
              "      <td>-3.94665</td>\n",
              "    </tr>\n",
              "    <tr>\n",
              "      <th>6</th>\n",
              "      <td>linear</td>\n",
              "      <td>0.907894</td>\n",
              "      <td>-0.00373026</td>\n",
              "    </tr>\n",
              "    <tr>\n",
              "      <th>7</th>\n",
              "      <td>lasso</td>\n",
              "      <td>0.907232</td>\n",
              "      <td>-0.00374042</td>\n",
              "    </tr>\n",
              "    <tr>\n",
              "      <th>8</th>\n",
              "      <td>ridge</td>\n",
              "      <td>0.899952</td>\n",
              "      <td>-0.0038755</td>\n",
              "    </tr>\n",
              "    <tr>\n",
              "      <th>9</th>\n",
              "      <td>elastic</td>\n",
              "      <td>0.907213</td>\n",
              "      <td>-0.00374101</td>\n",
              "    </tr>\n",
              "  </tbody>\n",
              "</table>\n",
              "</div>"
            ],
            "text/plain": [
              "         name        R2        RMSE\n",
              "0          dt  0.773627    -3.74871\n",
              "1          rf  0.830648    -3.18012\n",
              "2  linear_svr  0.903871      -2.514\n",
              "3    poly_svr  0.783393    -3.75317\n",
              "4     rbf_svr  0.847276    -3.03619\n",
              "5         knn  0.765462    -3.94665\n",
              "6      linear  0.907894 -0.00373026\n",
              "7       lasso  0.907232 -0.00374042\n",
              "8       ridge  0.899952  -0.0038755\n",
              "9     elastic  0.907213 -0.00374101"
            ]
          },
          "metadata": {
            "tags": []
          },
          "execution_count": 62
        }
      ]
    },
    {
      "cell_type": "markdown",
      "metadata": {
        "id": "LNY8LNTTefRt"
      },
      "source": [
        "# predict data"
      ]
    },
    {
      "cell_type": "code",
      "metadata": {
        "id": "b_W5qqq0pgx-"
      },
      "source": [
        "### please adjust 'model_name' by yourself ! ###\n",
        "\n",
        "# u can choose : dt, rf, linear_svr, poly_svr, rbf_svr, knn, linear, lasso, ridge, elastic\n",
        "model_name = rf \n",
        "algorithm = str(model_name).split('(')[0]"
      ],
      "execution_count": 63,
      "outputs": []
    },
    {
      "cell_type": "code",
      "metadata": {
        "colab": {
          "base_uri": "https://localhost:8080/"
        },
        "id": "dAkc_Sq0dy7g",
        "outputId": "c5d49ae7-f05f-4285-e0fd-effba5eb1b5c"
      },
      "source": [
        "### condition screening (Select the data for predict) ###\n",
        "df = bw_df\n",
        "\n",
        "# filter gender column(m:0 f:1)\n",
        "delete_idx = df.loc[df[\"gender\"] == 1].index.tolist() # selete\n",
        "df = df.drop(index=delete_idx)\n",
        "\n",
        "print('df has', len(df), 'rows')"
      ],
      "execution_count": 64,
      "outputs": [
        {
          "output_type": "stream",
          "text": [
            "df has 261 rows\n"
          ],
          "name": "stdout"
        }
      ]
    },
    {
      "cell_type": "code",
      "metadata": {
        "colab": {
          "base_uri": "https://localhost:8080/"
        },
        "id": "cGrWWwyBej5T",
        "outputId": "ee245130-2ae3-43e3-b29d-c04941e1c3f5"
      },
      "source": [
        "### column delete (delete the column don't need) ###\n",
        "\n",
        "predict_df = df[['age', 'height', 'weight', 'chest_width_cm', 'waist_width_cm', 'hip_width_cm', 'bmi']]\n",
        "\n",
        "print('complete the selection of data， df_input has', len(predict_df), 'row')\n",
        "print(\"predict_df' s columns :\", predict_df.columns)"
      ],
      "execution_count": 65,
      "outputs": [
        {
          "output_type": "stream",
          "text": [
            "complete the selection of data， df_input has 261 row\n",
            "predict_df' s columns : Index(['age', 'height', 'weight', 'chest_width_cm', 'waist_width_cm',\n",
            "       'hip_width_cm', 'bmi'],\n",
            "      dtype='object')\n"
          ],
          "name": "stdout"
        }
      ]
    },
    {
      "cell_type": "code",
      "metadata": {
        "colab": {
          "base_uri": "https://localhost:8080/"
        },
        "id": "iqcm24JnRPoQ",
        "outputId": "ddffda2b-9088-48e9-d85e-27093ec388f6"
      },
      "source": [
        "###　adjust skewed to normal ###\n",
        "\n",
        "need_adjust_skewed = ['LinearRegression', 'Lasso', 'Ridge', 'ElasticNet']\n",
        "\n",
        "if algorithm in need_adjust_skewed :\n",
        "  for i in predict_df.keys():\n",
        "    predict_df[i]= boxcox1p(predict_df[i], lamdas[i])\n",
        "  print('the algorithm u use now is', algorithm, ', predict_df complete skewness adjustment')\n",
        "\n",
        "else:\n",
        "  print('the algorithm u use now is', algorithm, \", so predict_df don't need to skewness adjustment\")"
      ],
      "execution_count": 66,
      "outputs": [
        {
          "output_type": "stream",
          "text": [
            "the algorithm u use now is RandomForestRegressor , so predict_df don't need to skewness adjustment\n"
          ],
          "name": "stdout"
        }
      ]
    },
    {
      "cell_type": "code",
      "metadata": {
        "colab": {
          "base_uri": "https://localhost:8080/"
        },
        "id": "tMCSgqvmuWfW",
        "outputId": "e37155a6-dc66-4071-ef5e-31500a7a0ae5"
      },
      "source": [
        "###　scaler ###\n",
        "need_scaler = ['LinearRegression', 'Lasso', 'Ridge', 'ElasticNet']\n",
        "\n",
        "if algorithm == 'KNeighborsRegressor':\n",
        "  predict_df = pd.DataFrame(knn_scaler.transform(predict_df), columns = predict_df.columns)\n",
        "  print('the algorithm u use now is', algorithm, ' predict_df complete', scaler)\n",
        "\n",
        "elif algorithm in need_scaler:\n",
        "  predict_df = pd.DataFrame(linear_scaler.transform(predict_df), columns = predict_df.columns)\n",
        "  print('the algorithm u use now is', algorithm, ' predict_df complete', scaler)\n",
        "\n",
        "else:\n",
        "  print('the algorithm u use now is', algorithm, \"so predict_df don't need to scaler\")"
      ],
      "execution_count": 67,
      "outputs": [
        {
          "output_type": "stream",
          "text": [
            "the algorithm u use now is RandomForestRegressor so predict_df don't need to scaler\n"
          ],
          "name": "stdout"
        }
      ]
    },
    {
      "cell_type": "code",
      "metadata": {
        "id": "zIn1jBu30ZPj",
        "colab": {
          "base_uri": "https://localhost:8080/"
        },
        "outputId": "1a907aa5-a2d0-4530-ccfd-92392a597d8b"
      },
      "source": [
        "### predict ###\n",
        "\n",
        "pre = model_name.predict(predict_df).round(4)\n",
        "\n",
        "need_inv_skewed = ['LinearRegression', 'Lasso', 'Ridge', 'ElasticNet']\n",
        "\n",
        "if algorithm in need_inv_skewed:\n",
        "  pre = inv_boxcox1p(pre, lamdas['waist'])\n",
        "  print('the algorithm u use now is', algorithm, ' predictive value complete skewness reduction',)\n",
        "else:\n",
        "  print('the algorithm u use now is', algorithm, \"so predictive value don't need to skewness reduction\")"
      ],
      "execution_count": 68,
      "outputs": [
        {
          "output_type": "stream",
          "text": [
            "the algorithm u use now is RandomForestRegressor so predictive value don't need to skewness reduction\n"
          ],
          "name": "stdout"
        }
      ]
    },
    {
      "cell_type": "code",
      "metadata": {
        "id": "pGFvWx2SqqxP",
        "colab": {
          "base_uri": "https://localhost:8080/"
        },
        "outputId": "7b8bb782-45ca-4028-e936-63ec87620bab"
      },
      "source": [
        "### check results & output dataframe ###\n",
        "\n",
        "output = df\n",
        "# adjust column order\n",
        "number_col = output.pop(df.columns[10])\n",
        "output.insert(14, number_col.name, number_col)\n",
        "\n",
        "output['pre_waist'] = pre\n",
        "output['pre_waist - real_waist'] = (output['pre_waist'] - output['waist']).abs()\n",
        "\n",
        "# gender m:0 f:1 \n",
        "dic = { 0 : '男性', 1 : '女性'}\n",
        "output['gender'] = output['gender'].replace(dic)\n",
        "\n",
        "# race e:0 w:1 \n",
        "dic = { 0 : '東方人', 1 : '西方人'}\n",
        "output['race'] = output['race'].replace(dic)\n",
        "\n",
        "print('the algorithm u use now is', algorithm, ' , and use:　', scaler)\n",
        "print('complete predict， output has', len(output), 'rows')"
      ],
      "execution_count": 69,
      "outputs": [
        {
          "output_type": "stream",
          "text": [
            "the algorithm u use now is RandomForestRegressor  , and use:　 <class 'sklearn.preprocessing._data.MinMaxScaler'>\n",
            "complete predict， output has 261 rows\n"
          ],
          "name": "stdout"
        }
      ]
    },
    {
      "cell_type": "code",
      "metadata": {
        "id": "yjUiXimrO1XZ",
        "colab": {
          "base_uri": "https://localhost:8080/",
          "height": 315
        },
        "outputId": "a9c4e7ac-b145-44ef-fe74-185901b79f9b"
      },
      "source": [
        "### loss of bfp > 5 ###\n",
        "print('loss of bfp > 5 has', len(output[output['pre_waist - real_waist'] >= 5]), 'rows')\n",
        "output[output['pre_waist - real_waist'] >= 5].sort_values(['pre_waist - real_waist'], ascending=False)"
      ],
      "execution_count": 70,
      "outputs": [
        {
          "output_type": "stream",
          "text": [
            "loss of bfp > 5 has 4 rows\n"
          ],
          "name": "stdout"
        },
        {
          "output_type": "execute_result",
          "data": {
            "text/html": [
              "<div>\n",
              "<style scoped>\n",
              "    .dataframe tbody tr th:only-of-type {\n",
              "        vertical-align: middle;\n",
              "    }\n",
              "\n",
              "    .dataframe tbody tr th {\n",
              "        vertical-align: top;\n",
              "    }\n",
              "\n",
              "    .dataframe thead th {\n",
              "        text-align: right;\n",
              "    }\n",
              "</style>\n",
              "<table border=\"1\" class=\"dataframe\">\n",
              "  <thead>\n",
              "    <tr style=\"text-align: right;\">\n",
              "      <th></th>\n",
              "      <th>org_img</th>\n",
              "      <th>age</th>\n",
              "      <th>gender</th>\n",
              "      <th>race</th>\n",
              "      <th>height</th>\n",
              "      <th>weight</th>\n",
              "      <th>chest_width_cm</th>\n",
              "      <th>waist_width_cm</th>\n",
              "      <th>hip_width_cm</th>\n",
              "      <th>chest</th>\n",
              "      <th>hips</th>\n",
              "      <th>bfp</th>\n",
              "      <th>source</th>\n",
              "      <th>bmi</th>\n",
              "      <th>waist</th>\n",
              "      <th>pre_waist</th>\n",
              "      <th>pre_waist - real_waist</th>\n",
              "    </tr>\n",
              "  </thead>\n",
              "  <tbody>\n",
              "    <tr>\n",
              "      <th>419</th>\n",
              "      <td>8704.jpg</td>\n",
              "      <td>24.0</td>\n",
              "      <td>男性</td>\n",
              "      <td>東方人</td>\n",
              "      <td>161.5</td>\n",
              "      <td>50.5</td>\n",
              "      <td>36.355</td>\n",
              "      <td>33.512</td>\n",
              "      <td>36.056</td>\n",
              "      <td>77.0</td>\n",
              "      <td>88.0</td>\n",
              "      <td>9.2</td>\n",
              "      <td>真人</td>\n",
              "      <td>19.361827</td>\n",
              "      <td>66.5</td>\n",
              "      <td>86.0987</td>\n",
              "      <td>19.5987</td>\n",
              "    </tr>\n",
              "    <tr>\n",
              "      <th>406</th>\n",
              "      <td>8691.jpg</td>\n",
              "      <td>26.0</td>\n",
              "      <td>男性</td>\n",
              "      <td>東方人</td>\n",
              "      <td>176.0</td>\n",
              "      <td>59.0</td>\n",
              "      <td>35.278</td>\n",
              "      <td>33.522</td>\n",
              "      <td>36.874</td>\n",
              "      <td>83.0</td>\n",
              "      <td>91.0</td>\n",
              "      <td>14.3</td>\n",
              "      <td>真人</td>\n",
              "      <td>19.047004</td>\n",
              "      <td>74.0</td>\n",
              "      <td>86.2211</td>\n",
              "      <td>12.2211</td>\n",
              "    </tr>\n",
              "    <tr>\n",
              "      <th>418</th>\n",
              "      <td>8703.jpg</td>\n",
              "      <td>29.0</td>\n",
              "      <td>男性</td>\n",
              "      <td>東方人</td>\n",
              "      <td>182.0</td>\n",
              "      <td>72.0</td>\n",
              "      <td>35.490</td>\n",
              "      <td>35.976</td>\n",
              "      <td>38.407</td>\n",
              "      <td>88.0</td>\n",
              "      <td>96.5</td>\n",
              "      <td>17.2</td>\n",
              "      <td>真人</td>\n",
              "      <td>21.736505</td>\n",
              "      <td>83.0</td>\n",
              "      <td>91.1159</td>\n",
              "      <td>8.1159</td>\n",
              "    </tr>\n",
              "    <tr>\n",
              "      <th>417</th>\n",
              "      <td>8702.jpg</td>\n",
              "      <td>24.0</td>\n",
              "      <td>男性</td>\n",
              "      <td>東方人</td>\n",
              "      <td>168.0</td>\n",
              "      <td>92.7</td>\n",
              "      <td>38.232</td>\n",
              "      <td>34.934</td>\n",
              "      <td>40.332</td>\n",
              "      <td>99.5</td>\n",
              "      <td>110.0</td>\n",
              "      <td>32.0</td>\n",
              "      <td>真人</td>\n",
              "      <td>32.844388</td>\n",
              "      <td>89.0</td>\n",
              "      <td>96.5508</td>\n",
              "      <td>7.5508</td>\n",
              "    </tr>\n",
              "  </tbody>\n",
              "</table>\n",
              "</div>"
            ],
            "text/plain": [
              "      org_img   age gender  ... waist  pre_waist  pre_waist - real_waist\n",
              "419  8704.jpg  24.0     男性  ...  66.5    86.0987                 19.5987\n",
              "406  8691.jpg  26.0     男性  ...  74.0    86.2211                 12.2211\n",
              "418  8703.jpg  29.0     男性  ...  83.0    91.1159                  8.1159\n",
              "417  8702.jpg  24.0     男性  ...  89.0    96.5508                  7.5508\n",
              "\n",
              "[4 rows x 17 columns]"
            ]
          },
          "metadata": {
            "tags": []
          },
          "execution_count": 70
        }
      ]
    },
    {
      "cell_type": "code",
      "metadata": {
        "id": "egypsAz2TXvM",
        "colab": {
          "base_uri": "https://localhost:8080/",
          "height": 588
        },
        "outputId": "1dd5daeb-91bf-4cb7-f688-1cfa83d3c7c2"
      },
      "source": [
        "### real people ###\n",
        "output[output['source'] == '真人'].sort_values(['pre_waist - real_waist'], ascending=False)"
      ],
      "execution_count": 71,
      "outputs": [
        {
          "output_type": "execute_result",
          "data": {
            "text/html": [
              "<div>\n",
              "<style scoped>\n",
              "    .dataframe tbody tr th:only-of-type {\n",
              "        vertical-align: middle;\n",
              "    }\n",
              "\n",
              "    .dataframe tbody tr th {\n",
              "        vertical-align: top;\n",
              "    }\n",
              "\n",
              "    .dataframe thead th {\n",
              "        text-align: right;\n",
              "    }\n",
              "</style>\n",
              "<table border=\"1\" class=\"dataframe\">\n",
              "  <thead>\n",
              "    <tr style=\"text-align: right;\">\n",
              "      <th></th>\n",
              "      <th>org_img</th>\n",
              "      <th>age</th>\n",
              "      <th>gender</th>\n",
              "      <th>race</th>\n",
              "      <th>height</th>\n",
              "      <th>weight</th>\n",
              "      <th>chest_width_cm</th>\n",
              "      <th>waist_width_cm</th>\n",
              "      <th>hip_width_cm</th>\n",
              "      <th>chest</th>\n",
              "      <th>hips</th>\n",
              "      <th>bfp</th>\n",
              "      <th>source</th>\n",
              "      <th>bmi</th>\n",
              "      <th>waist</th>\n",
              "      <th>pre_waist</th>\n",
              "      <th>pre_waist - real_waist</th>\n",
              "    </tr>\n",
              "  </thead>\n",
              "  <tbody>\n",
              "    <tr>\n",
              "      <th>419</th>\n",
              "      <td>8704.jpg</td>\n",
              "      <td>24.0</td>\n",
              "      <td>男性</td>\n",
              "      <td>東方人</td>\n",
              "      <td>161.5</td>\n",
              "      <td>50.5</td>\n",
              "      <td>36.355</td>\n",
              "      <td>33.512</td>\n",
              "      <td>36.056</td>\n",
              "      <td>77.0</td>\n",
              "      <td>88.0</td>\n",
              "      <td>9.2</td>\n",
              "      <td>真人</td>\n",
              "      <td>19.361827</td>\n",
              "      <td>66.5</td>\n",
              "      <td>86.0987</td>\n",
              "      <td>19.5987</td>\n",
              "    </tr>\n",
              "    <tr>\n",
              "      <th>406</th>\n",
              "      <td>8691.jpg</td>\n",
              "      <td>26.0</td>\n",
              "      <td>男性</td>\n",
              "      <td>東方人</td>\n",
              "      <td>176.0</td>\n",
              "      <td>59.0</td>\n",
              "      <td>35.278</td>\n",
              "      <td>33.522</td>\n",
              "      <td>36.874</td>\n",
              "      <td>83.0</td>\n",
              "      <td>91.0</td>\n",
              "      <td>14.3</td>\n",
              "      <td>真人</td>\n",
              "      <td>19.047004</td>\n",
              "      <td>74.0</td>\n",
              "      <td>86.2211</td>\n",
              "      <td>12.2211</td>\n",
              "    </tr>\n",
              "    <tr>\n",
              "      <th>418</th>\n",
              "      <td>8703.jpg</td>\n",
              "      <td>29.0</td>\n",
              "      <td>男性</td>\n",
              "      <td>東方人</td>\n",
              "      <td>182.0</td>\n",
              "      <td>72.0</td>\n",
              "      <td>35.490</td>\n",
              "      <td>35.976</td>\n",
              "      <td>38.407</td>\n",
              "      <td>88.0</td>\n",
              "      <td>96.5</td>\n",
              "      <td>17.2</td>\n",
              "      <td>真人</td>\n",
              "      <td>21.736505</td>\n",
              "      <td>83.0</td>\n",
              "      <td>91.1159</td>\n",
              "      <td>8.1159</td>\n",
              "    </tr>\n",
              "    <tr>\n",
              "      <th>417</th>\n",
              "      <td>8702.jpg</td>\n",
              "      <td>24.0</td>\n",
              "      <td>男性</td>\n",
              "      <td>東方人</td>\n",
              "      <td>168.0</td>\n",
              "      <td>92.7</td>\n",
              "      <td>38.232</td>\n",
              "      <td>34.934</td>\n",
              "      <td>40.332</td>\n",
              "      <td>99.5</td>\n",
              "      <td>110.0</td>\n",
              "      <td>32.0</td>\n",
              "      <td>真人</td>\n",
              "      <td>32.844388</td>\n",
              "      <td>89.0</td>\n",
              "      <td>96.5508</td>\n",
              "      <td>7.5508</td>\n",
              "    </tr>\n",
              "    <tr>\n",
              "      <th>405</th>\n",
              "      <td>8690.jpg</td>\n",
              "      <td>24.0</td>\n",
              "      <td>男性</td>\n",
              "      <td>東方人</td>\n",
              "      <td>165.0</td>\n",
              "      <td>48.1</td>\n",
              "      <td>31.133</td>\n",
              "      <td>27.241</td>\n",
              "      <td>35.997</td>\n",
              "      <td>76.5</td>\n",
              "      <td>84.0</td>\n",
              "      <td>11.9</td>\n",
              "      <td>真人</td>\n",
              "      <td>17.667585</td>\n",
              "      <td>68.0</td>\n",
              "      <td>72.9894</td>\n",
              "      <td>4.9894</td>\n",
              "    </tr>\n",
              "    <tr>\n",
              "      <th>414</th>\n",
              "      <td>8699.jpg</td>\n",
              "      <td>28.0</td>\n",
              "      <td>男性</td>\n",
              "      <td>東方人</td>\n",
              "      <td>168.0</td>\n",
              "      <td>67.6</td>\n",
              "      <td>37.740</td>\n",
              "      <td>32.049</td>\n",
              "      <td>37.440</td>\n",
              "      <td>90.0</td>\n",
              "      <td>95.0</td>\n",
              "      <td>21.2</td>\n",
              "      <td>真人</td>\n",
              "      <td>23.951247</td>\n",
              "      <td>81.0</td>\n",
              "      <td>85.5254</td>\n",
              "      <td>4.5254</td>\n",
              "    </tr>\n",
              "    <tr>\n",
              "      <th>410</th>\n",
              "      <td>8695.jpg</td>\n",
              "      <td>29.0</td>\n",
              "      <td>男性</td>\n",
              "      <td>東方人</td>\n",
              "      <td>172.0</td>\n",
              "      <td>72.9</td>\n",
              "      <td>36.602</td>\n",
              "      <td>34.125</td>\n",
              "      <td>34.125</td>\n",
              "      <td>95.0</td>\n",
              "      <td>99.0</td>\n",
              "      <td>21.9</td>\n",
              "      <td>真人</td>\n",
              "      <td>24.641698</td>\n",
              "      <td>87.0</td>\n",
              "      <td>90.8250</td>\n",
              "      <td>3.8250</td>\n",
              "    </tr>\n",
              "    <tr>\n",
              "      <th>407</th>\n",
              "      <td>8692.jpg</td>\n",
              "      <td>23.0</td>\n",
              "      <td>男性</td>\n",
              "      <td>東方人</td>\n",
              "      <td>179.0</td>\n",
              "      <td>98.7</td>\n",
              "      <td>36.892</td>\n",
              "      <td>36.892</td>\n",
              "      <td>42.291</td>\n",
              "      <td>103.0</td>\n",
              "      <td>114.0</td>\n",
              "      <td>26.1</td>\n",
              "      <td>真人</td>\n",
              "      <td>30.804282</td>\n",
              "      <td>105.0</td>\n",
              "      <td>101.8225</td>\n",
              "      <td>3.1775</td>\n",
              "    </tr>\n",
              "    <tr>\n",
              "      <th>404</th>\n",
              "      <td>8689.jpg</td>\n",
              "      <td>29.0</td>\n",
              "      <td>男性</td>\n",
              "      <td>東方人</td>\n",
              "      <td>166.0</td>\n",
              "      <td>64.8</td>\n",
              "      <td>34.913</td>\n",
              "      <td>31.118</td>\n",
              "      <td>39.011</td>\n",
              "      <td>87.0</td>\n",
              "      <td>95.0</td>\n",
              "      <td>22.6</td>\n",
              "      <td>真人</td>\n",
              "      <td>23.515750</td>\n",
              "      <td>82.0</td>\n",
              "      <td>84.8966</td>\n",
              "      <td>2.8966</td>\n",
              "    </tr>\n",
              "    <tr>\n",
              "      <th>408</th>\n",
              "      <td>8693.jpg</td>\n",
              "      <td>29.0</td>\n",
              "      <td>男性</td>\n",
              "      <td>東方人</td>\n",
              "      <td>174.0</td>\n",
              "      <td>73.0</td>\n",
              "      <td>34.555</td>\n",
              "      <td>31.614</td>\n",
              "      <td>38.819</td>\n",
              "      <td>91.0</td>\n",
              "      <td>99.0</td>\n",
              "      <td>21.1</td>\n",
              "      <td>真人</td>\n",
              "      <td>24.111507</td>\n",
              "      <td>87.0</td>\n",
              "      <td>87.4150</td>\n",
              "      <td>0.4150</td>\n",
              "    </tr>\n",
              "  </tbody>\n",
              "</table>\n",
              "</div>"
            ],
            "text/plain": [
              "      org_img   age gender  ...  waist  pre_waist  pre_waist - real_waist\n",
              "419  8704.jpg  24.0     男性  ...   66.5    86.0987                 19.5987\n",
              "406  8691.jpg  26.0     男性  ...   74.0    86.2211                 12.2211\n",
              "418  8703.jpg  29.0     男性  ...   83.0    91.1159                  8.1159\n",
              "417  8702.jpg  24.0     男性  ...   89.0    96.5508                  7.5508\n",
              "405  8690.jpg  24.0     男性  ...   68.0    72.9894                  4.9894\n",
              "414  8699.jpg  28.0     男性  ...   81.0    85.5254                  4.5254\n",
              "410  8695.jpg  29.0     男性  ...   87.0    90.8250                  3.8250\n",
              "407  8692.jpg  23.0     男性  ...  105.0   101.8225                  3.1775\n",
              "404  8689.jpg  29.0     男性  ...   82.0    84.8966                  2.8966\n",
              "408  8693.jpg  29.0     男性  ...   87.0    87.4150                  0.4150\n",
              "\n",
              "[10 rows x 17 columns]"
            ]
          },
          "metadata": {
            "tags": []
          },
          "execution_count": 71
        }
      ]
    },
    {
      "cell_type": "markdown",
      "metadata": {
        "id": "iZVosSIK4IYY"
      },
      "source": [
        "# savw model\n",
        "save the model to Google drive"
      ]
    },
    {
      "cell_type": "code",
      "metadata": {
        "id": "7MkJaQ0ndB9T"
      },
      "source": [
        "# import time\n",
        "# from sklearn.externals import joblib\n",
        "# import datetime\n",
        "# import os\n",
        "# import json\n",
        "\n",
        "# now = datetime.datetime.now().strftime('%Y-%m-%d_%H:%M:%S') # 當前時間(注意為伺服器時間)\n",
        "# print('當前時間', now)\n",
        "\n",
        "# folder = algorithm # 以演算法區分資料夾\n",
        "# drive_path = os.path.join('/content/drive/Shareddrives/AI_Python/ishape/ai/step2/waist', folder)\n",
        "\n",
        "# if not os.path.exists(drive_path):\n",
        "#   os.makedirs(drive_path)\n",
        "\n",
        "# # save model(.h5)\n",
        "# name_model = folder + '_pre_waist_' + str(now) + '.h5'\n",
        "# joblib.dump(model_name, os.path.join(drive_path, name_model))\n",
        "\n",
        "# if algorithm in ['KNeighborsRegressor', 'LinearRegression', 'Lasso', 'Ridge', 'ElasticNet']:\n",
        "\n",
        "#   if algorithm == 'KNeighborsRegressor':\n",
        "#     save_scaler = knn_scaler\n",
        "#   elif algorithm in ['LinearRegression', 'Lasso', 'Ridge', 'ElasticNet']:\n",
        "#     save_scaler = linear_scaler\n",
        "\n",
        "#     # 存skewness\n",
        "#     name_lamda = folder + '_lamda_' + str(now) + '.json'\n",
        "#     f = open(os.path.join(drive_path, name_lamda), \"w\", encoding=\"UTF-8\") #寫入\n",
        "#     json.dump(lamdas , f, ensure_ascii=False, indent=4) #輸出成json檔案\n",
        "#     f.close()\n",
        "#     print('已儲存lamdas 參數')\n",
        "\n",
        "\n",
        "#   # 存scaler\n",
        "#   name_scaler = folder + '_' + str(save_scaler).split('(')[0] + '_' + str(now) + '.h5'\n",
        "#   joblib.dump(save_scaler, os.path.join(drive_path, name_scaler))\n",
        "#   print('已儲存scaler model')"
      ],
      "execution_count": 72,
      "outputs": []
    },
    {
      "cell_type": "markdown",
      "metadata": {
        "id": "TVrG3b1YGB1S"
      },
      "source": [
        "# save results\n",
        "save the results to Google drive (same as model' s path"
      ]
    },
    {
      "cell_type": "code",
      "metadata": {
        "id": "eYYc3imf0EZ4"
      },
      "source": [
        "# ### save the result into Excel ###\n",
        "# import os\n",
        "\n",
        "# table_name = name_model.split('.')[0] + '.xlsx' # Ridge_pre_bodyfat_2021-05-13_10:34:31.xlsx\n",
        "# writer = pd.ExcelWriter(os.path.join(drive_path, table_name), engine='openpyxl')\n",
        "# sheets =  y_df.name + '_' + str(len(df_input)) +  '_' + algorithm\n",
        "# output.to_excel(writer, sheet_name = sheets, index=False, encoding='utf-8')\n",
        "# writer.save()"
      ],
      "execution_count": 73,
      "outputs": []
    }
  ]
}
