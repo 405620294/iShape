{
  "nbformat": 4,
  "nbformat_minor": 0,
  "metadata": {
    "colab": {
      "name": "單人_demo_4個模型.ipynb",
      "provenance": [],
      "collapsed_sections": [],
      "include_colab_link": true
    },
    "kernelspec": {
      "name": "python3",
      "display_name": "Python 3"
    },
    "language_info": {
      "name": "python"
    }
  },
  "cells": [
    {
      "cell_type": "markdown",
      "metadata": {
        "id": "view-in-github",
        "colab_type": "text"
      },
      "source": [
        "<a href=\"https://colab.research.google.com/github/405620294/iShape/blob/main/Cascade_4_model.ipynb\" target=\"_parent\"><img src=\"https://colab.research.google.com/assets/colab-badge.svg\" alt=\"Open In Colab\"/></a>"
      ]
    },
    {
      "cell_type": "code",
      "metadata": {
        "colab": {
          "base_uri": "https://localhost:8080/"
        },
        "id": "QmH_lmI80ijt",
        "outputId": "2c23e2e7-1ecb-49c7-e53f-0be31328a96c"
      },
      "source": [
        "from google.colab import drive\n",
        "drive.mount('/content/drive')"
      ],
      "execution_count": null,
      "outputs": [
        {
          "output_type": "stream",
          "text": [
            "Drive already mounted at /content/drive; to attempt to forcibly remount, call drive.mount(\"/content/drive\", force_remount=True).\n"
          ],
          "name": "stdout"
        }
      ]
    },
    {
      "cell_type": "code",
      "metadata": {
        "id": "VMvlZmodqvr0"
      },
      "source": [
        "# 409\n",
        "# c 114\n",
        "# w 105\n",
        "# h 103\n",
        "# b 26.1\n",
        "age = 23\n",
        "height = 179\n",
        "weight = 98.7\n",
        "chw_cm = 36.892\n",
        "ww_cm = 42.291\n",
        "hw_cm = 36.892\n",
        "bmi = round(weight / ((height / 100) ** 2), 4)"
      ],
      "execution_count": null,
      "outputs": []
    },
    {
      "cell_type": "code",
      "metadata": {
        "id": "KUN31lpBt-Vo"
      },
      "source": [
        "### user_info ###\n",
        "\n",
        "user_info = {'age': age,\n",
        "        'height': height,\n",
        "        'weight': weight,\n",
        "        'chest_width_cm': chw_cm,\n",
        "        'waist_width_cm': ww_cm,\n",
        "        'hip_width_cm': hw_cm,\n",
        "        'bmi': bmi\n",
        "}"
      ],
      "execution_count": null,
      "outputs": []
    },
    {
      "cell_type": "code",
      "metadata": {
        "colab": {
          "base_uri": "https://localhost:8080/",
          "height": 78
        },
        "id": "QZWWwZH5N5si",
        "outputId": "7a65afdd-ce8a-495b-8294-5861825041c3"
      },
      "source": [
        "import pandas as pd\n",
        "user_df = pd.DataFrame.from_dict(user_info,orient='index').T\n",
        "user_df"
      ],
      "execution_count": null,
      "outputs": [
        {
          "output_type": "execute_result",
          "data": {
            "text/html": [
              "<div>\n",
              "<style scoped>\n",
              "    .dataframe tbody tr th:only-of-type {\n",
              "        vertical-align: middle;\n",
              "    }\n",
              "\n",
              "    .dataframe tbody tr th {\n",
              "        vertical-align: top;\n",
              "    }\n",
              "\n",
              "    .dataframe thead th {\n",
              "        text-align: right;\n",
              "    }\n",
              "</style>\n",
              "<table border=\"1\" class=\"dataframe\">\n",
              "  <thead>\n",
              "    <tr style=\"text-align: right;\">\n",
              "      <th></th>\n",
              "      <th>age</th>\n",
              "      <th>height</th>\n",
              "      <th>weight</th>\n",
              "      <th>chest_width_cm</th>\n",
              "      <th>waist_width_cm</th>\n",
              "      <th>hip_width_cm</th>\n",
              "      <th>bmi</th>\n",
              "    </tr>\n",
              "  </thead>\n",
              "  <tbody>\n",
              "    <tr>\n",
              "      <th>0</th>\n",
              "      <td>23.0</td>\n",
              "      <td>179.0</td>\n",
              "      <td>98.7</td>\n",
              "      <td>36.892</td>\n",
              "      <td>42.291</td>\n",
              "      <td>36.892</td>\n",
              "      <td>30.8043</td>\n",
              "    </tr>\n",
              "  </tbody>\n",
              "</table>\n",
              "</div>"
            ],
            "text/plain": [
              "    age  height  weight  chest_width_cm  waist_width_cm  hip_width_cm      bmi\n",
              "0  23.0   179.0    98.7          36.892          42.291        36.892  30.8043"
            ]
          },
          "metadata": {
            "tags": []
          },
          "execution_count": 30
        }
      ]
    },
    {
      "cell_type": "code",
      "metadata": {
        "id": "TN5qTNOpQ70U"
      },
      "source": [
        "import json\n",
        "from scipy.special import boxcox1p, inv_boxcox1p\n",
        "from sklearn.externals import joblib"
      ],
      "execution_count": null,
      "outputs": []
    },
    {
      "cell_type": "markdown",
      "metadata": {
        "id": "9xb5fQ0B3Qxl"
      },
      "source": [
        "# 預測胸圍\n",
        "使用演算法；彈性網路(需做偏度調整與縮放)"
      ]
    },
    {
      "cell_type": "code",
      "metadata": {
        "colab": {
          "base_uri": "https://localhost:8080/",
          "height": 78
        },
        "id": "8BlD0zDx0Q2k",
        "outputId": "11cc634f-c59c-40a4-d212-4ab55fbb40e5"
      },
      "source": [
        "### adjust skewed to normal ###\n",
        "# transpose user_info's keys to predict_df's columns\n",
        "predict_df = pd.DataFrame.from_dict(user_info,orient='index').T\n",
        "\n",
        "with open('/content/drive/Shareddrives/AI_Python/ishape/ai/step2/chest/ElasticNet/ElasticNet_lamda_2021-05-15_06:00:23.json', 'r') as f:\n",
        "  chest_lamdas = json.load(f)\n",
        "\n",
        "for i in predict_df.keys():\n",
        "  predict_df[i]= boxcox1p(predict_df[i], chest_lamdas[i])\n",
        "\n",
        "predict_df"
      ],
      "execution_count": null,
      "outputs": [
        {
          "output_type": "execute_result",
          "data": {
            "text/html": [
              "<div>\n",
              "<style scoped>\n",
              "    .dataframe tbody tr th:only-of-type {\n",
              "        vertical-align: middle;\n",
              "    }\n",
              "\n",
              "    .dataframe tbody tr th {\n",
              "        vertical-align: top;\n",
              "    }\n",
              "\n",
              "    .dataframe thead th {\n",
              "        text-align: right;\n",
              "    }\n",
              "</style>\n",
              "<table border=\"1\" class=\"dataframe\">\n",
              "  <thead>\n",
              "    <tr style=\"text-align: right;\">\n",
              "      <th></th>\n",
              "      <th>age</th>\n",
              "      <th>height</th>\n",
              "      <th>weight</th>\n",
              "      <th>chest_width_cm</th>\n",
              "      <th>waist_width_cm</th>\n",
              "      <th>hip_width_cm</th>\n",
              "      <th>bmi</th>\n",
              "    </tr>\n",
              "  </thead>\n",
              "  <tbody>\n",
              "    <tr>\n",
              "      <th>0</th>\n",
              "      <td>8.969552</td>\n",
              "      <td>2.557766</td>\n",
              "      <td>4.881398</td>\n",
              "      <td>0.908787</td>\n",
              "      <td>1.87018</td>\n",
              "      <td>0.599433</td>\n",
              "      <td>1.049895</td>\n",
              "    </tr>\n",
              "  </tbody>\n",
              "</table>\n",
              "</div>"
            ],
            "text/plain": [
              "        age    height    weight  ...  waist_width_cm  hip_width_cm       bmi\n",
              "0  8.969552  2.557766  4.881398  ...         1.87018      0.599433  1.049895\n",
              "\n",
              "[1 rows x 7 columns]"
            ]
          },
          "metadata": {
            "tags": []
          },
          "execution_count": 32
        }
      ]
    },
    {
      "cell_type": "code",
      "metadata": {
        "id": "LiOp_tTgxtrI"
      },
      "source": [
        "### scaler ###\n",
        "chest_scaler = joblib.load('/content/drive/Shareddrives/AI_Python/ishape/ai/step2/chest/ElasticNet/ElasticNet_MinMaxScaler_2021-05-15_06:00:23.h5')\n",
        "\n",
        "predict_df = pd.DataFrame(chest_scaler.transform(predict_df), columns = predict_df.columns)"
      ],
      "execution_count": null,
      "outputs": []
    },
    {
      "cell_type": "code",
      "metadata": {
        "id": "z5mClSAi3Xc_"
      },
      "source": [
        "model_chest = joblib.load('/content/drive/Shareddrives/AI_Python/ishape/ai/step2/chest/ElasticNet/ElasticNet_pre_chest_2021-05-15_06:00:23.h5')\n",
        "pre = model_chest.predict(predict_df).round(4)\n",
        "user_df['chest'] = inv_boxcox1p(pre, chest_lamdas['chest'])"
      ],
      "execution_count": null,
      "outputs": []
    },
    {
      "cell_type": "markdown",
      "metadata": {
        "id": "hWjOpKkfQj6n"
      },
      "source": [
        "# 預測腰圍\n",
        "使用演算法；ridge (需做偏度調整與縮放)"
      ]
    },
    {
      "cell_type": "code",
      "metadata": {
        "id": "gw-JkEoo8j1e"
      },
      "source": [
        "### adjust skewed to normal ###\n",
        "predict_df = pd.DataFrame.from_dict(user_info,orient='index').T\n",
        "\n",
        "with open('/content/drive/Shareddrives/AI_Python/ishape/ai/step2/waist/Ridge/Ridge_lamda_2021-05-15_05:23:01.json', 'r') as f:\n",
        "  waist_lamdas = json.load(f)\n",
        "\n",
        "for i in predict_df.keys():\n",
        "  predict_df[i]= boxcox1p(predict_df[i], waist_lamdas[i])"
      ],
      "execution_count": null,
      "outputs": []
    },
    {
      "cell_type": "code",
      "metadata": {
        "id": "7tnpniNG8jme"
      },
      "source": [
        "### scaler ###\n",
        "waist_scaler = joblib.load('/content/drive/Shareddrives/AI_Python/ishape/ai/step2/waist/Ridge/Ridge_scaler_2021-05-15_05:23:01.h5')\n",
        "\n",
        "predict_df = pd.DataFrame(waist_scaler.transform(predict_df), columns = predict_df.columns)"
      ],
      "execution_count": null,
      "outputs": []
    },
    {
      "cell_type": "code",
      "metadata": {
        "id": "Hcys3Hoztk9-"
      },
      "source": [
        "model_waist = joblib.load('/content/drive/Shareddrives/AI_Python/ishape/ai/step2/waist/Ridge/Ridge_pre_waist_2021-05-15_05:23:01.h5')\n",
        "pre = model_waist.predict(predict_df).round(4)\n",
        "user_df['waist'] = inv_boxcox1p(pre, waist_lamdas['waist'])"
      ],
      "execution_count": null,
      "outputs": []
    },
    {
      "cell_type": "markdown",
      "metadata": {
        "id": "56NXolA7sk0F"
      },
      "source": [
        "# 預測臀圍\n",
        "使用演算法；KNN(需做縮放)\n"
      ]
    },
    {
      "cell_type": "code",
      "metadata": {
        "id": "HiahwLhbFL8q"
      },
      "source": [
        "### scaler ###\n",
        "predict_df = pd.DataFrame.from_dict(user_info,orient='index').T\n",
        "\n",
        "hips_scaler = joblib.load('/content/drive/Shareddrives/AI_Python/ishape/ai/step2/hips/KNeighborsRegressor/KNeighborsRegressor_MinMaxScaler_2021-05-15_05:54:15.h5')\n",
        "\n",
        "predict_df = pd.DataFrame(hips_scaler.transform(predict_df), columns = predict_df.columns)"
      ],
      "execution_count": null,
      "outputs": []
    },
    {
      "cell_type": "code",
      "metadata": {
        "id": "JCe-h0svFLyL"
      },
      "source": [
        "model_hips = joblib.load('/content/drive/Shareddrives/AI_Python/ishape/ai/step2/hips/KNeighborsRegressor/KNeighborsRegressor_pre_hips_2021-05-15_05:54:15.h5')\n",
        "user_df['hips'] = model_hips.predict(predict_df).round(4)"
      ],
      "execution_count": null,
      "outputs": []
    },
    {
      "cell_type": "code",
      "metadata": {
        "colab": {
          "base_uri": "https://localhost:8080/",
          "height": 78
        },
        "id": "Uu6SbP6sFLjG",
        "outputId": "6bef88d5-dadf-454c-c171-39c6bda15732"
      },
      "source": [
        "user_df"
      ],
      "execution_count": null,
      "outputs": [
        {
          "output_type": "execute_result",
          "data": {
            "text/html": [
              "<div>\n",
              "<style scoped>\n",
              "    .dataframe tbody tr th:only-of-type {\n",
              "        vertical-align: middle;\n",
              "    }\n",
              "\n",
              "    .dataframe tbody tr th {\n",
              "        vertical-align: top;\n",
              "    }\n",
              "\n",
              "    .dataframe thead th {\n",
              "        text-align: right;\n",
              "    }\n",
              "</style>\n",
              "<table border=\"1\" class=\"dataframe\">\n",
              "  <thead>\n",
              "    <tr style=\"text-align: right;\">\n",
              "      <th></th>\n",
              "      <th>age</th>\n",
              "      <th>height</th>\n",
              "      <th>weight</th>\n",
              "      <th>chest_width_cm</th>\n",
              "      <th>waist_width_cm</th>\n",
              "      <th>hip_width_cm</th>\n",
              "      <th>bmi</th>\n",
              "      <th>chest</th>\n",
              "      <th>waist</th>\n",
              "      <th>hips</th>\n",
              "    </tr>\n",
              "  </thead>\n",
              "  <tbody>\n",
              "    <tr>\n",
              "      <th>0</th>\n",
              "      <td>23.0</td>\n",
              "      <td>179.0</td>\n",
              "      <td>98.7</td>\n",
              "      <td>36.892</td>\n",
              "      <td>42.291</td>\n",
              "      <td>36.892</td>\n",
              "      <td>30.8043</td>\n",
              "      <td>112.230737</td>\n",
              "      <td>120.565439</td>\n",
              "      <td>106.8286</td>\n",
              "    </tr>\n",
              "  </tbody>\n",
              "</table>\n",
              "</div>"
            ],
            "text/plain": [
              "    age  height  weight  ...       chest       waist      hips\n",
              "0  23.0   179.0    98.7  ...  112.230737  120.565439  106.8286\n",
              "\n",
              "[1 rows x 10 columns]"
            ]
          },
          "metadata": {
            "tags": []
          },
          "execution_count": 40
        }
      ]
    },
    {
      "cell_type": "markdown",
      "metadata": {
        "id": "v3o7zVKHQUEy"
      },
      "source": [
        "# 預測體脂肪\n",
        "使用演算法；knn (需做縮放)"
      ]
    },
    {
      "cell_type": "code",
      "metadata": {
        "id": "PmTL_HO8yqRo"
      },
      "source": [
        "predict_df = user_df[['age', 'height', 'weight', 'chest', 'waist', 'hips', 'bmi']]"
      ],
      "execution_count": null,
      "outputs": []
    },
    {
      "cell_type": "code",
      "metadata": {
        "id": "PHgZziVEG9F1"
      },
      "source": [
        "### scaler ###\n",
        "bfp_scaler = joblib.load('/content/drive/Shareddrives/AI_Python/ishape/ai/step3/KNeighborsRegressor/KNeighborsRegressor_MinMaxScaler_2021-05-15_08:58:11.h5')\n",
        "predict_df = pd.DataFrame(bfp_scaler.transform(predict_df), columns = predict_df.columns)"
      ],
      "execution_count": null,
      "outputs": []
    },
    {
      "cell_type": "code",
      "metadata": {
        "id": "Sl0g975lNwkS"
      },
      "source": [
        "model_bfp = joblib.load('/content/drive/Shareddrives/AI_Python/ishape/ai/step3/KNeighborsRegressor/KNeighborsRegressor_pre_bodyfat_2021-05-15_08:58:11.h5')\n",
        "user_df['pre_bfp'] = model_bfp.predict(predict_df).round(2)"
      ],
      "execution_count": null,
      "outputs": []
    },
    {
      "cell_type": "code",
      "metadata": {
        "id": "5el79gGy6I4a",
        "colab": {
          "base_uri": "https://localhost:8080/",
          "height": 78
        },
        "outputId": "a38e9d0e-7941-4c59-d44f-e6f3586fe862"
      },
      "source": [
        "user_df"
      ],
      "execution_count": null,
      "outputs": [
        {
          "output_type": "execute_result",
          "data": {
            "text/html": [
              "<div>\n",
              "<style scoped>\n",
              "    .dataframe tbody tr th:only-of-type {\n",
              "        vertical-align: middle;\n",
              "    }\n",
              "\n",
              "    .dataframe tbody tr th {\n",
              "        vertical-align: top;\n",
              "    }\n",
              "\n",
              "    .dataframe thead th {\n",
              "        text-align: right;\n",
              "    }\n",
              "</style>\n",
              "<table border=\"1\" class=\"dataframe\">\n",
              "  <thead>\n",
              "    <tr style=\"text-align: right;\">\n",
              "      <th></th>\n",
              "      <th>age</th>\n",
              "      <th>height</th>\n",
              "      <th>weight</th>\n",
              "      <th>chest_width_cm</th>\n",
              "      <th>waist_width_cm</th>\n",
              "      <th>hip_width_cm</th>\n",
              "      <th>bmi</th>\n",
              "      <th>chest</th>\n",
              "      <th>waist</th>\n",
              "      <th>hips</th>\n",
              "      <th>pre_bfp</th>\n",
              "    </tr>\n",
              "  </thead>\n",
              "  <tbody>\n",
              "    <tr>\n",
              "      <th>0</th>\n",
              "      <td>23.0</td>\n",
              "      <td>179.0</td>\n",
              "      <td>98.7</td>\n",
              "      <td>36.892</td>\n",
              "      <td>42.291</td>\n",
              "      <td>36.892</td>\n",
              "      <td>30.8043</td>\n",
              "      <td>112.230737</td>\n",
              "      <td>120.565439</td>\n",
              "      <td>106.8286</td>\n",
              "      <td>27.93</td>\n",
              "    </tr>\n",
              "  </tbody>\n",
              "</table>\n",
              "</div>"
            ],
            "text/plain": [
              "    age  height  weight  ...       waist      hips  pre_bfp\n",
              "0  23.0   179.0    98.7  ...  120.565439  106.8286    27.93\n",
              "\n",
              "[1 rows x 11 columns]"
            ]
          },
          "metadata": {
            "tags": []
          },
          "execution_count": 44
        }
      ]
    },
    {
      "cell_type": "code",
      "metadata": {
        "id": "2MupxT286Ugz",
        "colab": {
          "base_uri": "https://localhost:8080/"
        },
        "outputId": "2096f550-1052-4a3f-91d6-0ccf2b9a2ba3"
      },
      "source": [
        "### 分析 ###\n",
        "standard_weight = round(( user_df['height'] - 80 ) * 0.7, 2) # 標準體重\n",
        "wh_ratio = round(user_df['waist'] / user_df['hips'],2) # 腰臀比\n",
        "\n",
        "chest = round(user_df['chest'].values[0], 2)\n",
        "waist = round(user_df['waist'].values[0], 2)\n",
        "hips = round(user_df['hips'].values[0], 2)\n",
        "\n",
        "import datetime\n",
        "now = datetime.datetime.now().strftime('%Y-%m-%d') # 當前時間(注意為伺服器時間)\n",
        "print('當前時間', now)"
      ],
      "execution_count": null,
      "outputs": [
        {
          "output_type": "stream",
          "text": [
            "當前時間 2021-05-17\n"
          ],
          "name": "stdout"
        }
      ]
    },
    {
      "cell_type": "markdown",
      "metadata": {
        "id": "brssIgTA6PgP"
      },
      "source": [
        "# 使用者分析報告"
      ]
    },
    {
      "cell_type": "code",
      "metadata": {
        "colab": {
          "base_uri": "https://localhost:8080/"
        },
        "id": "ppJihP27SqS-",
        "outputId": "1234fbce-f2d0-4d00-cdd8-59c9cbabc68a"
      },
      "source": [
        "print('iShape分析報告')\n",
        "print('-------------------')\n",
        "print('檢測日期: ', now)\n",
        "print('-------------------')\n",
        "\n",
        "print('您的年齡 : ', user_df['age'].values[0])\n",
        "print('您的身高 : ', user_df['height'].values[0], 'cm')\n",
        "print('您的體重 : ', user_df['weight'].values[0], 'kg')\n",
        "\n",
        "print('--------------------------------------')\n",
        "\n",
        "print('您的標準體重 : ', standard_weight.values[0], 'kg')\n",
        "print('--------------------------------------')\n",
        "\n",
        "print('您的胸圍 : ', chest, 'cm')\n",
        "print('--------------------------------------')\n",
        "\n",
        "if waist > 90 :\n",
        "  print('您的腰圍 : ', waist, 'cm')\n",
        "  print('已超過衛福部規定男性健康腰圍')\n",
        "  print('請注意內臟脂肪過高，心血管疾病、糖尿病、高血壓等風險')\n",
        "else:\n",
        "  print('您的腰圍 : ', waist, 'cm, 屬於健康範圍，請繼續保持')\n",
        "\n",
        "print('--------------------------------------')\n",
        "\n",
        "print('您的臀圍 : ', hips, 'cm')\n",
        "print('--------------------------------------')\n",
        "\n",
        "print('您的腰臀比 : ', wh_ratio.values[0], '%')\n",
        "print('--------------------------------------')\n",
        "\n",
        "bfp = user_df['pre_bfp'].values[0]\n",
        "while True:\n",
        "  print('您的體脂率 : ', bfp, '%')\n",
        "  if bfp > 25:\n",
        "    print('您的體脂率已超過25%, 屬於過胖, 請多做運動，減少精緻食物攝取')\n",
        "  elif 15 < bfp <= 25:\n",
        "    print('您的體脂率為健康範圍, 請繼續保持')\n",
        "  elif bfp < 5:\n",
        "    print('您的體脂率低於5%, 將影響身體機能, 請多多攝取蛋白質與堅果類')\n",
        "  break\n",
        "\n",
        "print('--------------------------------------')"
      ],
      "execution_count": null,
      "outputs": [
        {
          "output_type": "stream",
          "text": [
            "iShape分析報告\n",
            "-------------------\n",
            "檢測日期:  2021-05-17\n",
            "-------------------\n",
            "您的年齡 :  23.0\n",
            "您的身高 :  179.0 cm\n",
            "您的體重 :  98.7 kg\n",
            "--------------------------------------\n",
            "您的標準體重 :  69.3 kg\n",
            "--------------------------------------\n",
            "您的胸圍 :  112.23 cm\n",
            "--------------------------------------\n",
            "您的腰圍 :  120.57 cm\n",
            "已超過衛福部規定男性健康腰圍\n",
            "請注意內臟脂肪過高，心血管疾病、糖尿病、高血壓等風險\n",
            "--------------------------------------\n",
            "您的臀圍 :  106.83 cm\n",
            "--------------------------------------\n",
            "您的腰臀比 :  1.13 %\n",
            "--------------------------------------\n",
            "您的體脂率 :  27.93 %\n",
            "您的體脂率已超過25%, 屬於過胖, 請多做運動，減少精緻食物攝取\n",
            "--------------------------------------\n"
          ],
          "name": "stdout"
        }
      ]
    }
  ]
}
