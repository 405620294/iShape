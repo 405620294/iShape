{
  "nbformat": 4,
  "nbformat_minor": 0,
  "metadata": {
    "accelerator": "GPU",
    "colab": {
      "name": "waist_統整_八種演算法.ipynb",
      "provenance": [],
      "collapsed_sections": [],
      "include_colab_link": true
    },
    "kernelspec": {
      "display_name": "Python 3",
      "name": "python3"
    },
    "language_info": {
      "name": "python"
    }
  },
  "cells": [
    {
      "cell_type": "markdown",
      "metadata": {
        "id": "view-in-github",
        "colab_type": "text"
      },
      "source": [
        "<a href=\"https://colab.research.google.com/github/405620294/iShape/blob/main/train_waist.ipynb\" target=\"_parent\"><img src=\"https://colab.research.google.com/assets/colab-badge.svg\" alt=\"Open In Colab\"/></a>"
      ]
    },
    {
      "cell_type": "code",
      "metadata": {
        "colab": {
          "base_uri": "https://localhost:8080/"
        },
        "id": "IgUtmPM_XJ0l",
        "outputId": "3ef847e4-e8b2-4deb-c9d0-844eec798b76"
      },
      "source": [
        "# connect your google drive，Please follow the steps\n",
        "from google.colab import drive\n",
        "drive.mount('/content/drive')"
      ],
      "execution_count": null,
      "outputs": [
        {
          "output_type": "stream",
          "text": [
            "Mounted at /content/drive\n"
          ],
          "name": "stdout"
        }
      ]
    },
    {
      "cell_type": "code",
      "metadata": {
        "id": "SQorTNDIfVvZ"
      },
      "source": [
        "# before run this ipynb, u need to notice that:\n",
        "# 1. 欄位順序如下 ：['age', 'height', 'weight', 'chest_width_cm', 'waist_width_cm', 'hip_width_cm', 'bmi']\n",
        "# 2. 請先 在KNN區塊，　定義要使用的　scaler，　並且 線性回歸都是 使用相同的 scaler\n",
        "# 3. 在預測資料前，請先定義 model_name = 要用的演算法"
      ],
      "execution_count": null,
      "outputs": []
    },
    {
      "cell_type": "markdown",
      "metadata": {
        "id": "WSTPB_53z0zG"
      },
      "source": [
        "# 水下秤重 dataset >> 預測腰圍\n"
      ]
    },
    {
      "cell_type": "markdown",
      "metadata": {
        "id": "VUpm5t15o5y7"
      },
      "source": [
        "## raw ( original dataset ) >> df ( preprocessed dataset ) >> df_input ( filtered column dataframe ) >> slicing target ( x_df / y_df )"
      ]
    },
    {
      "cell_type": "code",
      "metadata": {
        "id": "w4P3R7sWYQlY"
      },
      "source": [
        "import pandas as pd\n",
        "bw_df =  pd.read_csv(\"/content/drive/Shareddrives/AI_Python/ishape/ai/step1/hps_output/body_width.csv\", encoding=\"utf-8\")"
      ],
      "execution_count": null,
      "outputs": []
    },
    {
      "cell_type": "markdown",
      "metadata": {
        "id": "WEfP_YV0BaSd"
      },
      "source": [
        "# 資料預處理"
      ]
    },
    {
      "cell_type": "code",
      "metadata": {
        "id": "loqQkSFeZ81y",
        "colab": {
          "base_uri": "https://localhost:8080/"
        },
        "outputId": "1cbe3c4e-141b-48cb-f37f-4b55f119e700"
      },
      "source": [
        "### 預處理 ###\n",
        "\n",
        "bw_df = bw_df[['org_img', 'age', 'gender', 'race', 'height', 'weight', 'chest_width_cm', 'waist_width_cm', 'hip_width_cm', 'chest', 'waist', 'hips', 'bfp', 'source']]\n",
        "\n",
        "# 缺失值 > 全刪\n",
        "bw_df.dropna(axis=0, how='any', inplace=True)\n",
        "\n",
        "# 性別欄位 m:0 f:1 >> 二質型資料可以不做one-hot-encoding\n",
        "dic = { 'm' : 0, 'f' : 1}\n",
        "bw_df['gender'] = bw_df['gender'].replace(dic)\n",
        "\n",
        "# 種族欄位 e:0 w:1 >> 二質型資料可以不做one-hot-encoding\n",
        "dic = { 'e' : 0, 'w' : 1}\n",
        "bw_df['race'] = bw_df['race'].replace(dic)\n",
        "\n",
        "# 身高轉公尺平方\n",
        "def t_m2(t):\n",
        "  t = t / 100\n",
        "  return t * t\n",
        "m2 = bw_df['height'].apply(t_m2)\n",
        "\n",
        "# 新增欄位 bmi\n",
        "bw_df['bmi'] = bw_df['weight'] / m2\n",
        "\n",
        "print('bw_df 共', len(bw_df), '筆資料')"
      ],
      "execution_count": null,
      "outputs": [
        {
          "output_type": "stream",
          "text": [
            "bw_df 共 262 筆資料\n"
          ],
          "name": "stdout"
        }
      ]
    },
    {
      "cell_type": "markdown",
      "metadata": {
        "id": "uKj7N1R36bO1"
      },
      "source": [
        "# 資料篩選"
      ]
    },
    {
      "cell_type": "code",
      "metadata": {
        "id": "LaFogFXz0mog",
        "colab": {
          "base_uri": "https://localhost:8080/"
        },
        "outputId": "49b325cd-23cb-47d7-9d50-ffb914f33e58"
      },
      "source": [
        "### 條件篩選 (挑選進入訓練的資料) ###\n",
        "df = bw_df\n",
        "\n",
        "# 篩選性別欄位 m:0 f:1\n",
        "# delete_idx = df.loc[df[\"gender\"] == 0].index.tolist() # 去掉以下欄位\n",
        "# df = df.drop(index=delete_idx)\n",
        "\n",
        "# 篩選種族欄位 e:0 w:1\n",
        "# delete_idx = df.loc[df[\"race\"] == 1].index.tolist() # 去掉以下欄位\n",
        "# df = df.drop(index=delete_idx)\n",
        "\n",
        "# 篩選source欄位\n",
        "c = '水下秤重'\n",
        "delete_idx = df.loc[df[\"source\"] != c].index.tolist() \n",
        "df = df.drop(index=delete_idx)\n",
        "\n",
        "# bfp < 5 刪除\n",
        "delete_idx = df.loc[df['bfp'] < 5].index.tolist()\n",
        "df = df.drop(index=delete_idx)\n",
        "\n",
        "print('df 共', len(df), '筆資料')"
      ],
      "execution_count": null,
      "outputs": [
        {
          "output_type": "stream",
          "text": [
            "df 共 246 筆資料\n"
          ],
          "name": "stdout"
        }
      ]
    },
    {
      "cell_type": "markdown",
      "metadata": {
        "id": "_m7wuYNsr8ph"
      },
      "source": [
        "# 欄位篩選"
      ]
    },
    {
      "cell_type": "code",
      "metadata": {
        "colab": {
          "base_uri": "https://localhost:8080/"
        },
        "id": "jl9-stOUr8Qj",
        "outputId": "7bd939c5-88dd-428b-b2c8-3b75e2c3f1e5"
      },
      "source": [
        "### 欄位刪除 (刪除不用進入訓練欄位) ###\n",
        "\n",
        "# 刪除體脂率、org_img、gender、race、source\n",
        "df_input = df.drop(['bfp', 'org_img', 'gender', 'race', 'source'], axis=1)\n",
        "\n",
        "print('完成資料與欄位挑選，將進入訓練的資料， df_input 共', len(df_input), '筆')\n",
        "print('df_input 欄位 :', df_input.columns)"
      ],
      "execution_count": null,
      "outputs": [
        {
          "output_type": "stream",
          "text": [
            "完成資料與欄位挑選，將進入訓練的資料， df_input 共 246 筆\n",
            "df_input 欄位 : Index(['age', 'height', 'weight', 'chest_width_cm', 'waist_width_cm',\n",
            "       'hip_width_cm', 'chest', 'waist', 'hips', 'bmi'],\n",
            "      dtype='object')\n"
          ],
          "name": "stdout"
        }
      ]
    },
    {
      "cell_type": "markdown",
      "metadata": {
        "id": "A2tdwOe9zsDj"
      },
      "source": [
        "# 準備訓練資料 & 資料切片"
      ]
    },
    {
      "cell_type": "code",
      "metadata": {
        "id": "7Cm2w6b_aCFx"
      },
      "source": [
        "x_df = df_input[['age', 'height', 'weight', 'chest_width_cm', 'waist_width_cm', 'hip_width_cm', 'bmi']] # 欄位排序\n",
        "y_df = df_input['waist']"
      ],
      "execution_count": null,
      "outputs": []
    },
    {
      "cell_type": "code",
      "metadata": {
        "id": "wnvFr5cLaCi0",
        "colab": {
          "base_uri": "https://localhost:8080/"
        },
        "outputId": "fe9c9770-f81c-4770-ac11-696b44de0031"
      },
      "source": [
        "print(' 訓練資料 x_df 共', len(x_df), ' ,欄位 : ', x_df.columns)\n",
        "print(' 訓練資料 y_df 共', len(y_df), ' ,欄位 : ', y_df.name)"
      ],
      "execution_count": null,
      "outputs": [
        {
          "output_type": "stream",
          "text": [
            " 訓練資料 x_df 共 246  ,欄位 :  Index(['age', 'height', 'weight', 'chest_width_cm', 'waist_width_cm',\n",
            "       'hip_width_cm', 'bmi'],\n",
            "      dtype='object')\n",
            " 訓練資料 y_df 共 246  ,欄位 :  waist\n"
          ],
          "name": "stdout"
        }
      ]
    },
    {
      "cell_type": "code",
      "metadata": {
        "id": "IWXCXMBOzMQN"
      },
      "source": [
        "# 資料切片\n",
        "import numpy as np\n",
        "from sklearn.model_selection import train_test_split\n",
        "x_train, x_test, y_train, y_test = train_test_split(np.array(x_df), np.array(y_df), test_size=0.1)"
      ],
      "execution_count": null,
      "outputs": []
    },
    {
      "cell_type": "code",
      "metadata": {
        "id": "2EczPfve6FgX"
      },
      "source": [
        "from sklearn.metrics import r2_score, mean_absolute_error, mean_squared_error\n",
        "from sklearn.model_selection import GridSearchCV, cross_val_score"
      ],
      "execution_count": null,
      "outputs": []
    },
    {
      "cell_type": "markdown",
      "metadata": {
        "id": "8Ykvq2IIzKUN"
      },
      "source": [
        "# Regression Tree"
      ]
    },
    {
      "cell_type": "code",
      "metadata": {
        "colab": {
          "base_uri": "https://localhost:8080/"
        },
        "id": "RlTS743gzSDV",
        "outputId": "2c23b566-8b73-444c-ca80-64dd315c8649"
      },
      "source": [
        "### dt ###\n",
        "\n",
        "from sklearn.tree import DecisionTreeRegressor\n",
        "\n",
        "dt = DecisionTreeRegressor()\n",
        "params = {\"max_depth\":range(3, 10)} # the search range of Grid Search\n",
        "grid = GridSearchCV(dt, params, cv=10, n_jobs=-1, scoring=\"neg_root_mean_squared_error\")\n",
        "grid.fit(x_df, y_df)\n",
        "print('the best max depth of DecisionTreeRegressor : ', grid.best_params_)\n",
        "\n",
        "dt = DecisionTreeRegressor(max_depth = grid.best_params_['max_depth'])\n",
        "dt.fit(x_train, y_train)\n",
        "pre = dt.predict(x_test)\n",
        "print('dt_r2: ', r2_score(y_test, pre))\n",
        "print('dt_MAE: ', mean_absolute_error(y_test, pre))\n",
        "print('dt_MSE: ', mean_squared_error(y_test, pre))\n",
        "\n",
        "# Evaluate a score by cross-validation\n",
        "dt_cross_r2 = cross_val_score(dt, x_df, y_df, cv=10, n_jobs=-1, scoring='r2')\n",
        "dt_cross_RMSE = cross_val_score(dt, x_df, y_df, cv=10, n_jobs=-1, scoring='neg_root_mean_squared_error')"
      ],
      "execution_count": null,
      "outputs": [
        {
          "output_type": "stream",
          "text": [
            "the best max depth of DecisionTreeRegressor :  {'max_depth': 6}\n",
            "dt_r2:  0.787250301055371\n",
            "dt_MAE:  3.1560396825396815\n",
            "dt_MSE:  15.87026292649281\n"
          ],
          "name": "stdout"
        }
      ]
    },
    {
      "cell_type": "markdown",
      "metadata": {
        "id": "buS8jwcv5SUa"
      },
      "source": [
        "# Random Forests Regression"
      ]
    },
    {
      "cell_type": "code",
      "metadata": {
        "colab": {
          "base_uri": "https://localhost:8080/"
        },
        "id": "j_RDD4K8zRPd",
        "outputId": "689e5b60-2bb9-461b-c2ed-66a68c910de8"
      },
      "source": [
        "### rf ###\n",
        "\n",
        "from sklearn.ensemble import RandomForestRegressor\n",
        "\n",
        "# find the best estimators & max depth of rf\n",
        "rf = RandomForestRegressor()\n",
        "params = {\n",
        "    \"n_estimators\":range(10, 101, 2),\n",
        "    \"max_depth\":range(3, 10)\n",
        "}\n",
        "grid = GridSearchCV(rf, params, cv=10, n_jobs=-1, scoring=\"neg_root_mean_squared_error\")\n",
        "grid.fit(x_df, y_df)\n",
        "print('best_score : ', grid.best_score_, 'the best params of DecisionTreeRegressor : ', grid.best_params_)\n",
        "\n",
        "from sklearn.ensemble import RandomForestRegressor\n",
        "rf = RandomForestRegressor(n_estimators=grid.best_params_['n_estimators'], max_depth = grid.best_params_['max_depth'])\n",
        "rf.fit(x_df, y_df)\n",
        "\n",
        "pre = rf.predict(x_test)\n",
        "print('rf_r2: ', r2_score(y_test, pre))\n",
        "print('rf_MAE: ', mean_absolute_error(y_test, pre))\n",
        "print('rf_MSE: ', mean_squared_error(y_test, pre))\n",
        "\n",
        "# Evaluate a score by cross-validation\n",
        "rf_cross_r2 = cross_val_score(rf, x_df, y_df, cv=10, n_jobs=-1, scoring='r2')\n",
        "rf_cross_RMSE = cross_val_score(rf, x_df, y_df, cv=10, n_jobs=-1, scoring='neg_root_mean_squared_error')"
      ],
      "execution_count": null,
      "outputs": [
        {
          "output_type": "stream",
          "text": [
            "best_score :  -3.0897135043871384 the best params of DecisionTreeRegressor :  {'max_depth': 9, 'n_estimators': 52}\n",
            "rf_r2:  0.9839401046643614\n",
            "rf_MAE:  0.8761202435963434\n",
            "rf_MSE:  1.1980029246239896\n"
          ],
          "name": "stdout"
        }
      ]
    },
    {
      "cell_type": "code",
      "metadata": {
        "id": "X48o9H3gpPWM",
        "colab": {
          "base_uri": "https://localhost:8080/"
        },
        "outputId": "0f91abad-5b85-44d8-96a5-7e481a4d29d4"
      },
      "source": [
        "#找出 隨機森林特徵的重要性\n",
        "pd.DataFrame(rf.feature_importances_, \n",
        "       columns=[\"Importance\"],\n",
        "       index=x_df.keys()).sort_values(by=\"Importance\", ascending=False)\n",
        "       #ascending=False降冪排列"
      ],
      "execution_count": null,
      "outputs": [
        {
          "output_type": "execute_result",
          "data": {
            "text/html": [
              "<div>\n",
              "<style scoped>\n",
              "    .dataframe tbody tr th:only-of-type {\n",
              "        vertical-align: middle;\n",
              "    }\n",
              "\n",
              "    .dataframe tbody tr th {\n",
              "        vertical-align: top;\n",
              "    }\n",
              "\n",
              "    .dataframe thead th {\n",
              "        text-align: right;\n",
              "    }\n",
              "</style>\n",
              "<table border=\"1\" class=\"dataframe\">\n",
              "  <thead>\n",
              "    <tr style=\"text-align: right;\">\n",
              "      <th></th>\n",
              "      <th>Importance</th>\n",
              "    </tr>\n",
              "  </thead>\n",
              "  <tbody>\n",
              "    <tr>\n",
              "      <th>waist_width_cm</th>\n",
              "      <td>0.686336</td>\n",
              "    </tr>\n",
              "    <tr>\n",
              "      <th>bmi</th>\n",
              "      <td>0.230770</td>\n",
              "    </tr>\n",
              "    <tr>\n",
              "      <th>weight</th>\n",
              "      <td>0.034839</td>\n",
              "    </tr>\n",
              "    <tr>\n",
              "      <th>chest_width_cm</th>\n",
              "      <td>0.022220</td>\n",
              "    </tr>\n",
              "    <tr>\n",
              "      <th>age</th>\n",
              "      <td>0.010472</td>\n",
              "    </tr>\n",
              "    <tr>\n",
              "      <th>hip_width_cm</th>\n",
              "      <td>0.009359</td>\n",
              "    </tr>\n",
              "    <tr>\n",
              "      <th>height</th>\n",
              "      <td>0.006004</td>\n",
              "    </tr>\n",
              "  </tbody>\n",
              "</table>\n",
              "</div>"
            ],
            "text/plain": [
              "                Importance\n",
              "waist_width_cm    0.686336\n",
              "bmi               0.230770\n",
              "weight            0.034839\n",
              "chest_width_cm    0.022220\n",
              "age               0.010472\n",
              "hip_width_cm      0.009359\n",
              "height            0.006004"
            ]
          },
          "metadata": {
            "tags": []
          },
          "execution_count": 13
        }
      ]
    },
    {
      "cell_type": "markdown",
      "metadata": {
        "id": "0Kr4YpnkQHlg"
      },
      "source": [
        "# SVR Regression"
      ]
    },
    {
      "cell_type": "code",
      "metadata": {
        "id": "p_XYCNzkzWD2"
      },
      "source": [
        "### svr回歸 ###\n",
        "from sklearn.svm import SVR\n",
        "linear_svr = SVR(kernel='linear') # 使用线性核函数配置\n",
        "poly_svr = SVR(kernel='poly') # 使用多项式核函数配置\n",
        "rbf_svr = SVR(kernel='rbf', C=100)\n",
        "\n",
        "linear_svr.fit(x_train, y_train)\n",
        "poly_svr.fit(x_train, y_train)\n",
        "rbf_svr.fit(x_train, y_train)\n",
        "\n",
        "# Evaluate a score by cross-validation\n",
        "linear_svr_r2 = cross_val_score(linear_svr, np.array(x_df), np.array(y_df), cv=10, scoring=\"r2\") \n",
        "linear_svr_RMSE = cross_val_score(linear_svr, np.array(x_df), np.array(y_df), cv=10, scoring=\"neg_root_mean_squared_error\")\n",
        "\n",
        "poly_svr_r2 = cross_val_score(poly_svr, np.array(x_df), np.array(y_df), cv=10, scoring=\"r2\") \n",
        "poly_svr_RMSE = cross_val_score(poly_svr, np.array(x_df), np.array(y_df), cv=10, scoring=\"neg_root_mean_squared_error\") \n",
        "\n",
        "rbf_svr_r2 = cross_val_score(rbf_svr, np.array(x_df), np.array(y_df), cv=10, scoring=\"r2\") \n",
        "rbf_svr_RMSE = cross_val_score(rbf_svr, np.array(x_df), np.array(y_df), cv=10, scoring=\"neg_root_mean_squared_error\")"
      ],
      "execution_count": null,
      "outputs": []
    },
    {
      "cell_type": "markdown",
      "metadata": {
        "id": "bxAkRY9pDWEC"
      },
      "source": [
        "# KNN Regression"
      ]
    },
    {
      "cell_type": "code",
      "metadata": {
        "id": "2j5gScANDu6h",
        "colab": {
          "base_uri": "https://localhost:8080/"
        },
        "outputId": "cda7fbdc-b803-42ae-82b3-a9f3d7b5153c"
      },
      "source": [
        "# prepare another dataset for KNN & linear ( cause data needs to Normalization before training) \n",
        "from sklearn.preprocessing import RobustScaler, MaxAbsScaler, MinMaxScaler, StandardScaler\n",
        "def do_scaler(name, input_df):\n",
        "  scaler = name()\n",
        "  scaler.fit(input_df)\n",
        "  return scaler\n",
        "\n",
        "# choose a Normalization which u want to do by yourself !\n",
        "scaler = MinMaxScaler # u can choose : RobustScaler, MaxAbsScaler, MinMaxScaler, StandardScaler\n",
        "\n",
        "df_need_scaler = df_input.drop(['chest', 'waist', 'hips'], axis=1)\n",
        "knn_scaler = do_scaler(scaler, df_need_scaler) # fit the scaler\n",
        "scalered_df = pd.DataFrame(knn_scaler.transform(df_need_scaler), columns = df_need_scaler.columns) # transform the dataframe\n",
        "print('您已對', df_need_scaler.columns , '欄位，使用　', scaler, '縮放資料')"
      ],
      "execution_count": null,
      "outputs": [
        {
          "output_type": "stream",
          "text": [
            "您已對 Index(['age', 'height', 'weight', 'chest_width_cm', 'waist_width_cm',\n",
            "       'hip_width_cm', 'bmi'],\n",
            "      dtype='object') 欄位，使用　 <class 'sklearn.preprocessing._data.MinMaxScaler'> 縮放資料\n"
          ],
          "name": "stdout"
        }
      ]
    },
    {
      "cell_type": "code",
      "metadata": {
        "colab": {
          "base_uri": "https://localhost:8080/"
        },
        "id": "op77BFHzHgYj",
        "outputId": "026ea571-b66b-4d2c-f0b1-07bb82e1c663"
      },
      "source": [
        "x_df = scalered_df[['age', 'height', 'weight', 'chest_width_cm', 'waist_width_cm', 'hip_width_cm', 'bmi']] # 欄位排序\n",
        "y_df = df_input['waist']\n",
        "\n",
        "print(' 訓練資料 x_df 共', len(x_df), ' ,欄位 : ', x_df.columns)\n",
        "print(' 訓練資料 y_df 共', len(y_df), ' ,欄位 : ', y_df.name)"
      ],
      "execution_count": null,
      "outputs": [
        {
          "output_type": "stream",
          "text": [
            " 訓練資料 x_df 共 246  ,欄位 :  Index(['age', 'height', 'weight', 'chest_width_cm', 'waist_width_cm',\n",
            "       'hip_width_cm', 'bmi'],\n",
            "      dtype='object')\n",
            " 訓練資料 y_df 共 246  ,欄位 :  waist\n"
          ],
          "name": "stdout"
        }
      ]
    },
    {
      "cell_type": "code",
      "metadata": {
        "id": "_Zj8yLv5IISm"
      },
      "source": [
        "x_train, x_test, y_train, y_test = train_test_split(np.array(x_df), np.array(y_df), test_size=0.1)"
      ],
      "execution_count": null,
      "outputs": []
    },
    {
      "cell_type": "code",
      "metadata": {
        "id": "Nr1IXe5izT9F",
        "colab": {
          "base_uri": "https://localhost:8080/"
        },
        "outputId": "bf7bf017-07df-46c9-98f2-65d4d1a96f8c"
      },
      "source": [
        "### knn ###\n",
        "from sklearn.neighbors import KNeighborsRegressor\n",
        "\n",
        "knn = KNeighborsRegressor()\n",
        "params = {\"n_neighbors\":range(1, 50)}\n",
        "grid = GridSearchCV(knn, params, cv=10, n_jobs=-1, scoring='neg_root_mean_squared_error')\n",
        "grid.fit(x_df, y_df)\n",
        "\n",
        "knn = KNeighborsRegressor(n_neighbors = grid.best_params_['n_neighbors'])\n",
        "knn.fit(x_train, y_train)\n",
        "pre = knn.predict(x_test)\n",
        "print('knn_r2: ', r2_score(y_test, pre))\n",
        "print('Knn_MAE: ', mean_absolute_error(y_test, pre))\n",
        "print('Knn_MSE: ', mean_squared_error(y_test, pre))\n",
        "\n",
        "# Evaluate a score by cross-validation\n",
        "knn_cross_r2 = cross_val_score(knn, x_df, y_df, cv=10, n_jobs=-1, scoring='r2')\n",
        "knn_cross_RMSE = cross_val_score(knn, x_df, y_df, cv=10, n_jobs=-1, scoring='neg_root_mean_squared_error')"
      ],
      "execution_count": null,
      "outputs": [
        {
          "output_type": "stream",
          "text": [
            "knn_r2:  0.8484158615560011\n",
            "Knn_MAE:  3.3748571428571434\n",
            "Knn_MSE:  16.59991836734693\n"
          ],
          "name": "stdout"
        }
      ]
    },
    {
      "cell_type": "markdown",
      "metadata": {
        "id": "54xjh2q5QeoI"
      },
      "source": [
        "# Linear Regression"
      ]
    },
    {
      "cell_type": "code",
      "metadata": {
        "colab": {
          "base_uri": "https://localhost:8080/"
        },
        "id": "9VGrR1p-axXl",
        "outputId": "638f953c-b590-4959-afe4-89a32edd4230"
      },
      "source": [
        "# prepare another dataset cause datas' distribution needs to be normal before trainning any Linear Regression)\n",
        "\n",
        "# find the skewness of each columns\n",
        "from scipy.stats import skew\n",
        "def getskew(series):\n",
        "  return skew(series.dropna() + 1)\n",
        "\n",
        "# adjust skewed to normal\n",
        "from scipy.stats import boxcox_normmax\n",
        "def get_lamda(s):\n",
        "  lamda = boxcox_normmax(s.dropna() + 1)\n",
        "  return lamda\n",
        "\n",
        "from scipy.special import boxcox1p, inv_boxcox1p\n",
        "def sk_normal(s):\n",
        "  lamda = boxcox_normmax(s.dropna() + 1)\n",
        "  return boxcox1p(s, lamda)\n",
        "\n",
        "\n",
        "# 查看欄位偏度\n",
        "column = df_input.columns # 所有df_input名稱\n",
        "skewness = (df_input[column].apply(getskew).sort_values(ascending=False))\n",
        "print(skewness)\n",
        "\n",
        "# 拿到各欄位lamda & let series change to dictionary\n",
        "lamdas = df_input[column].apply(get_lamda)\n",
        "lamdas = lamdas.to_dict()\n",
        "\n",
        "# 調整後偏度\n",
        "df_input[column] = df_input[column].apply(sk_normal)\n",
        "skewness = (df_input[column].apply(getskew).sort_values(ascending=False))\n",
        "print('修正後偏度')\n",
        "print(skewness)"
      ],
      "execution_count": null,
      "outputs": [
        {
          "output_type": "stream",
          "text": [
            "bmi               0.696487\n",
            "hip_width_cm      0.548198\n",
            "hips              0.503970\n",
            "chest_width_cm    0.473728\n",
            "chest             0.464332\n",
            "waist             0.410822\n",
            "weight            0.366416\n",
            "waist_width_cm    0.331624\n",
            "age               0.259460\n",
            "height            0.123417\n",
            "dtype: float64\n",
            "修正後偏度\n",
            "hip_width_cm      0.028584\n",
            "age               0.022386\n",
            "waist_width_cm    0.011417\n",
            "chest             0.003573\n",
            "waist             0.001612\n",
            "weight           -0.001218\n",
            "height           -0.001631\n",
            "bmi              -0.007760\n",
            "chest_width_cm   -0.012893\n",
            "hips             -0.012945\n",
            "dtype: float64\n"
          ],
          "name": "stdout"
        },
        {
          "output_type": "stream",
          "text": [
            "/usr/local/lib/python3.7/dist-packages/scipy/stats/stats.py:3508: PearsonRConstantInputWarning: An input array is constant; the correlation coefficent is not defined.\n",
            "  warnings.warn(PearsonRConstantInputWarning())\n",
            "/usr/local/lib/python3.7/dist-packages/scipy/stats/stats.py:3538: PearsonRNearConstantInputWarning: An input array is nearly constant; the computed correlation coefficent may be inaccurate.\n",
            "  warnings.warn(PearsonRNearConstantInputWarning())\n"
          ],
          "name": "stderr"
        }
      ]
    },
    {
      "cell_type": "code",
      "metadata": {
        "colab": {
          "base_uri": "https://localhost:8080/"
        },
        "id": "NLhHacR2suXq",
        "outputId": "531946d5-cc02-489c-96fc-c52fcee8566d"
      },
      "source": [
        "# prepare target variable and Scaler input variable\n",
        "\n",
        "df_need_scaler = df_input.drop(['chest', 'waist', 'hips'], axis=1)\n",
        "# you already choosed the Normalization at the KNN Regression block\n",
        "linear_scaler = do_scaler(scaler, df_need_scaler) # fit the scaler\n",
        "scalered_df = pd.DataFrame(linear_scaler.fit_transform(df_need_scaler), columns = df_need_scaler.columns) # transform t\n",
        "print('您已對', df_need_scaler.columns , '欄位，使用　', scaler, '縮放資料')"
      ],
      "execution_count": null,
      "outputs": [
        {
          "output_type": "stream",
          "text": [
            "您已對 Index(['age', 'height', 'weight', 'chest_width_cm', 'waist_width_cm',\n",
            "       'hip_width_cm', 'bmi'],\n",
            "      dtype='object') 欄位，使用　 <class 'sklearn.preprocessing._data.MinMaxScaler'> 縮放資料\n"
          ],
          "name": "stdout"
        }
      ]
    },
    {
      "cell_type": "code",
      "metadata": {
        "colab": {
          "base_uri": "https://localhost:8080/"
        },
        "id": "WreMPVrXqqcT",
        "outputId": "95ebae71-1a5f-490a-ea80-26cbda6c9636"
      },
      "source": [
        "x_df = scalered_df[['age', 'height', 'weight', 'chest_width_cm', 'waist_width_cm', 'hip_width_cm', 'bmi']] # 欄位排序\n",
        "y_df = df_input['waist']\n",
        "\n",
        "print(' 訓練資料 x_df 共', len(x_df), ' ,欄位 : ', x_df.columns)\n",
        "print(' 訓練資料 y_df 共', len(y_df), ' ,欄位 : ', y_df.name)"
      ],
      "execution_count": null,
      "outputs": [
        {
          "output_type": "stream",
          "text": [
            " 訓練資料 x_df 共 246  ,欄位 :  Index(['age', 'height', 'weight', 'chest_width_cm', 'waist_width_cm',\n",
            "       'hip_width_cm', 'bmi'],\n",
            "      dtype='object')\n",
            " 訓練資料 y_df 共 246  ,欄位 :  waist\n"
          ],
          "name": "stdout"
        }
      ]
    },
    {
      "cell_type": "code",
      "metadata": {
        "id": "9EFddqNc8NIL"
      },
      "source": [
        "x_train, x_test, y_train, y_test = train_test_split(np.array(x_df), np.array(y_df), test_size=0.1)"
      ],
      "execution_count": null,
      "outputs": []
    },
    {
      "cell_type": "code",
      "metadata": {
        "id": "lWPetLrfzN7d",
        "colab": {
          "base_uri": "https://localhost:8080/"
        },
        "outputId": "a5bf6115-5e9e-4888-b63e-8d8e02d1f8f2"
      },
      "source": [
        "# linear ###\n",
        "from sklearn.linear_model import LinearRegression\n",
        "linear = LinearRegression()\n",
        "linear.fit(x_train, y_train)\n",
        "\n",
        "pre = linear.predict(x_test)\n",
        "print('linear_r2  ', r2_score(y_test, pre))\n",
        "print('linear_MAE 　', mean_absolute_error(y_test, pre))\n",
        "print('linear_MSE  ', mean_squared_error(y_test, pre))\n",
        "\n",
        "linear_cross_r2 = cross_val_score(linear, x_df, y_df, cv=10, n_jobs=-1, scoring='r2')\n",
        "linear_cross_RMSE = cross_val_score(linear, x_df, y_df, cv=10, n_jobs=-1, scoring='neg_root_mean_squared_error')"
      ],
      "execution_count": null,
      "outputs": [
        {
          "output_type": "stream",
          "text": [
            "linear_r2   0.9378462975055902\n",
            "linear_MAE 　 0.002977756023245517\n",
            "linear_MSE   1.4372600200575408e-05\n"
          ],
          "name": "stdout"
        }
      ]
    },
    {
      "cell_type": "code",
      "metadata": {
        "colab": {
          "base_uri": "https://localhost:8080/"
        },
        "id": "-3HkX_Ez-8By",
        "outputId": "052c0ecd-6fd2-48db-b843-f5f88f38c292"
      },
      "source": [
        "coeffecients = pd.DataFrame(linear.coef_,x_df.columns)\n",
        "coeffecients.columns = ['Coeffecient'] \n",
        "coeffecients"
      ],
      "execution_count": null,
      "outputs": [
        {
          "output_type": "execute_result",
          "data": {
            "text/html": [
              "<div>\n",
              "<style scoped>\n",
              "    .dataframe tbody tr th:only-of-type {\n",
              "        vertical-align: middle;\n",
              "    }\n",
              "\n",
              "    .dataframe tbody tr th {\n",
              "        vertical-align: top;\n",
              "    }\n",
              "\n",
              "    .dataframe thead th {\n",
              "        text-align: right;\n",
              "    }\n",
              "</style>\n",
              "<table border=\"1\" class=\"dataframe\">\n",
              "  <thead>\n",
              "    <tr style=\"text-align: right;\">\n",
              "      <th></th>\n",
              "      <th>Coeffecient</th>\n",
              "    </tr>\n",
              "  </thead>\n",
              "  <tbody>\n",
              "    <tr>\n",
              "      <th>age</th>\n",
              "      <td>0.004495</td>\n",
              "    </tr>\n",
              "    <tr>\n",
              "      <th>height</th>\n",
              "      <td>-0.015240</td>\n",
              "    </tr>\n",
              "    <tr>\n",
              "      <th>weight</th>\n",
              "      <td>0.039566</td>\n",
              "    </tr>\n",
              "    <tr>\n",
              "      <th>chest_width_cm</th>\n",
              "      <td>-0.046453</td>\n",
              "    </tr>\n",
              "    <tr>\n",
              "      <th>waist_width_cm</th>\n",
              "      <td>0.092031</td>\n",
              "    </tr>\n",
              "    <tr>\n",
              "      <th>hip_width_cm</th>\n",
              "      <td>0.001449</td>\n",
              "    </tr>\n",
              "    <tr>\n",
              "      <th>bmi</th>\n",
              "      <td>-0.012979</td>\n",
              "    </tr>\n",
              "  </tbody>\n",
              "</table>\n",
              "</div>"
            ],
            "text/plain": [
              "                Coeffecient\n",
              "age                0.004495\n",
              "height            -0.015240\n",
              "weight             0.039566\n",
              "chest_width_cm    -0.046453\n",
              "waist_width_cm     0.092031\n",
              "hip_width_cm       0.001449\n",
              "bmi               -0.012979"
            ]
          },
          "metadata": {
            "tags": []
          },
          "execution_count": 24
        }
      ]
    },
    {
      "cell_type": "markdown",
      "metadata": {
        "id": "Je-vEAiW-GRg"
      },
      "source": [
        "# Lasso Regression"
      ]
    },
    {
      "cell_type": "code",
      "metadata": {
        "id": "U5hAuELOzX29",
        "colab": {
          "base_uri": "https://localhost:8080/"
        },
        "outputId": "3060bac7-d277-4cc7-a3eb-82a729276b1a"
      },
      "source": [
        "### lasso ### \n",
        "from sklearn.linear_model import LassoCV, RidgeCV, ElasticNetCV\n",
        "from sklearn.linear_model import Lasso, Ridge, ElasticNet\n",
        "\n",
        "cv = LassoCV(cv=10)\n",
        "cv.fit(x_train, y_train)\n",
        "print('LassoCV', cv.alpha_)\n",
        "\n",
        "lasso = Lasso(cv.alpha_)\n",
        "lasso.fit(x_train, y_train)\n",
        "pre = lasso.predict(x_test)\n",
        "\n",
        "print('lasso_r2  ', r2_score(y_test, pre))\n",
        "print('lasso_MAE 　', mean_absolute_error(y_test, pre))\n",
        "print('lasso_MSE  ', mean_squared_error(y_test, pre))\n",
        "\n",
        "lasso_cross_r2 = cross_val_score(lasso, x_df, y_df, cv=10, n_jobs=-1, scoring='r2')\n",
        "lasso_cross_RMSE = cross_val_score(lasso, x_df, y_df, cv=10, n_jobs=-1, scoring='neg_root_mean_squared_error')"
      ],
      "execution_count": null,
      "outputs": [
        {
          "output_type": "stream",
          "text": [
            "LassoCV 2.5546976704266464e-06\n",
            "lasso_r2   0.9352258782135122\n",
            "lasso_MAE 　 0.003072397523753132\n",
            "lasso_MSE   1.4978553463718491e-05\n"
          ],
          "name": "stdout"
        }
      ]
    },
    {
      "cell_type": "markdown",
      "metadata": {
        "id": "ekefSYs9-A7g"
      },
      "source": [
        "# Ridge Regression"
      ]
    },
    {
      "cell_type": "code",
      "metadata": {
        "id": "uhX6kUbFzZhN",
        "colab": {
          "base_uri": "https://localhost:8080/"
        },
        "outputId": "bba6fb69-b493-4671-ffee-a19e82bcfb63"
      },
      "source": [
        "### ridge ###\n",
        "cv = RidgeCV(cv=10)\n",
        "cv.fit(x_train, y_train)\n",
        "print(cv.alpha_)\n",
        "\n",
        "ridge = Ridge(cv.alpha_)\n",
        "ridge.fit(x_train, y_train)\n",
        "pre = ridge.predict(x_test)\n",
        "\n",
        "print('ridge_r2  ', r2_score(y_test, pre))\n",
        "print('ridge_MAE 　', mean_absolute_error(y_test, pre))\n",
        "print('ridge_MSE  ', mean_squared_error(y_test, pre))\n",
        "\n",
        "ridge_cross_r2 = cross_val_score(ridge, x_df, y_df, cv=10, n_jobs=-1, scoring='r2')\n",
        "ridge_cross_RMSE = cross_val_score(ridge, x_df, y_df, cv=10, n_jobs=-1, scoring='neg_root_mean_squared_error')"
      ],
      "execution_count": null,
      "outputs": [
        {
          "output_type": "stream",
          "text": [
            "0.1\n",
            "ridge_r2   0.9222226867939622\n",
            "ridge_MAE 　 0.0033381086782717072\n",
            "ridge_MSE   1.7985448694482165e-05\n"
          ],
          "name": "stdout"
        }
      ]
    },
    {
      "cell_type": "code",
      "metadata": {
        "colab": {
          "base_uri": "https://localhost:8080/"
        },
        "id": "-O3vy8Lr_nL8",
        "outputId": "6947fd88-62f4-43a6-b231-c42e1d60c799"
      },
      "source": [
        "coeffecients = pd.DataFrame(ridge.coef_,x_df.columns) \n",
        "coeffecients.columns = ['Coeffecient'] \n",
        "coeffecients"
      ],
      "execution_count": null,
      "outputs": [
        {
          "output_type": "execute_result",
          "data": {
            "text/html": [
              "<div>\n",
              "<style scoped>\n",
              "    .dataframe tbody tr th:only-of-type {\n",
              "        vertical-align: middle;\n",
              "    }\n",
              "\n",
              "    .dataframe tbody tr th {\n",
              "        vertical-align: top;\n",
              "    }\n",
              "\n",
              "    .dataframe thead th {\n",
              "        text-align: right;\n",
              "    }\n",
              "</style>\n",
              "<table border=\"1\" class=\"dataframe\">\n",
              "  <thead>\n",
              "    <tr style=\"text-align: right;\">\n",
              "      <th></th>\n",
              "      <th>Coeffecient</th>\n",
              "    </tr>\n",
              "  </thead>\n",
              "  <tbody>\n",
              "    <tr>\n",
              "      <th>age</th>\n",
              "      <td>0.006087</td>\n",
              "    </tr>\n",
              "    <tr>\n",
              "      <th>height</th>\n",
              "      <td>-0.004031</td>\n",
              "    </tr>\n",
              "    <tr>\n",
              "      <th>weight</th>\n",
              "      <td>0.020550</td>\n",
              "    </tr>\n",
              "    <tr>\n",
              "      <th>chest_width_cm</th>\n",
              "      <td>-0.031911</td>\n",
              "    </tr>\n",
              "    <tr>\n",
              "      <th>waist_width_cm</th>\n",
              "      <td>0.066744</td>\n",
              "    </tr>\n",
              "    <tr>\n",
              "      <th>hip_width_cm</th>\n",
              "      <td>0.004741</td>\n",
              "    </tr>\n",
              "    <tr>\n",
              "      <th>bmi</th>\n",
              "      <td>0.015656</td>\n",
              "    </tr>\n",
              "  </tbody>\n",
              "</table>\n",
              "</div>"
            ],
            "text/plain": [
              "                Coeffecient\n",
              "age                0.006087\n",
              "height            -0.004031\n",
              "weight             0.020550\n",
              "chest_width_cm    -0.031911\n",
              "waist_width_cm     0.066744\n",
              "hip_width_cm       0.004741\n",
              "bmi                0.015656"
            ]
          },
          "metadata": {
            "tags": []
          },
          "execution_count": 27
        }
      ]
    },
    {
      "cell_type": "markdown",
      "metadata": {
        "id": "Qvc4fJd196km"
      },
      "source": [
        "# Elastic Net Regression"
      ]
    },
    {
      "cell_type": "code",
      "metadata": {
        "id": "tRbCeWpezbT9",
        "colab": {
          "base_uri": "https://localhost:8080/"
        },
        "outputId": "9d4bb5f0-2785-4a2c-8045-48bd17ac32f5"
      },
      "source": [
        "### ElasticNet ###\n",
        "cv = ElasticNetCV(cv=10)\n",
        "cv.fit(x_train, y_train)\n",
        "print(cv.alpha_)\n",
        "\n",
        "elastic = ElasticNet(cv.alpha_)\n",
        "elastic.fit(x_train, y_train)\n",
        "pre = elastic.predict(x_test)\n",
        "\n",
        "print('Eelastic_r2  ', r2_score(y_test, pre))\n",
        "print('elastic_MAE 　', mean_absolute_error(y_test, pre))\n",
        "print('elastic_MSE  ', mean_squared_error(y_test, pre))\n",
        "\n",
        "elastic_cross_r2 = cross_val_score(elastic, x_df, y_df, cv=10, n_jobs=-1, scoring='r2')\n",
        "elastic_cross_RMSE = cross_val_score(elastic, x_df, y_df, cv=10, n_jobs=-1, scoring='neg_root_mean_squared_error')"
      ],
      "execution_count": null,
      "outputs": [
        {
          "output_type": "stream",
          "text": [
            "5.1093953408532936e-06\n",
            "Eelastic_r2   0.9351617279028904\n",
            "elastic_MAE 　 0.0030736973640705044\n",
            "elastic_MSE   1.4993387765301607e-05\n"
          ],
          "name": "stdout"
        }
      ]
    },
    {
      "cell_type": "markdown",
      "metadata": {
        "id": "pJ0nCWrRy_Gd"
      },
      "source": [
        "# 交叉驗證訓練分數"
      ]
    },
    {
      "cell_type": "code",
      "metadata": {
        "id": "BPwrmL-QzAXV",
        "colab": {
          "base_uri": "https://localhost:8080/"
        },
        "outputId": "54ce288e-6314-4609-fa10-ea547af8303c"
      },
      "source": [
        "# cross-validation ( CV = 10 ) \n",
        "\n",
        "print('dt_cross_r2: ', np.average(dt_cross_r2))\n",
        "print('dt_cross_RMSE ', np.average(dt_cross_RMSE))\n",
        "print('-------------------------------------------')\n",
        "\n",
        "print('rf_cross_r2: ', np.average(rf_cross_r2))\n",
        "print('rf_cross_RMSE', np.average(rf_cross_RMSE))\n",
        "print('-------------------------------------------')\n",
        "\n",
        "print('linear_svr_r2 ', np.average(linear_svr_r2), ' linear_svr_RMSE ', np.average(linear_svr_RMSE))\n",
        "print('poly_svr_r2   ', np.average(poly_svr_r2), '  poly_svr_RMSE ', np.average(poly_svr_RMSE))\n",
        "print('rbf_svr_r2    ', np.average(rbf_svr_r2), '   rbf_svr_RMSE ', np.average(rbf_svr_RMSE))\n",
        "print('-------------------------------------------')\n",
        "\n",
        "print('knn_cross_r2: ', np.average(knn_cross_r2))\n",
        "print('knn_cross_RMSE ', np.average(knn_cross_RMSE))\n",
        "print('-------------------------------------------')\n",
        "\n",
        "print('linear_cross_r2  ', np.average(linear_cross_r2))\n",
        "print('linear_cross_RMSE  ', np.average(lasso_cross_RMSE))\n",
        "print('-------------------------------------------')\n",
        "\n",
        "print('lasso_cross_r2  ', np.average(lasso_cross_r2))\n",
        "print('lasso_cross_RMSE  ', np.average(lasso_cross_RMSE))\n",
        "print('-------------------------------------------')\n",
        "\n",
        "print('ridge_cross_r2  ', np.average(ridge_cross_r2))\n",
        "print('ridge_cross_RMSE  ', np.average(ridge_cross_RMSE))\n",
        "print('-------------------------------------------')\n",
        "\n",
        "print('elastic_cross_r2  ', np.average(elastic_cross_r2))\n",
        "print('elastic_cross_RMSE  ', np.average(elastic_cross_RMSE))\n",
        "\n",
        "\n",
        "print('-------------------------------------------')\n",
        "print('linear, Lasso, Ridge and ElasticNet had adjusted skewed to normal')\n",
        "print('knn, linear, Lasso, Ridge and ElasticNet had adjusted the range with' , scaler)\n",
        "print(' 訓練資料 x_df 共', len(x_df), '筆資料 ,欄位 : ', x_df.columns)\n",
        "print(' 訓練資料 y_df 共', len(y_df), ' ,欄位 : ', y_df.name)"
      ],
      "execution_count": null,
      "outputs": [
        {
          "output_type": "stream",
          "text": [
            "dt_cross_r2:  0.7566295116145301\n",
            "dt_cross_RMSE  -3.7094196693232617\n",
            "-------------------------------------------\n",
            "rf_cross_r2:  0.8333398260207578\n",
            "rf_cross_RMSE -3.1804108393690678\n",
            "-------------------------------------------\n",
            "linear_svr_r2  0.902085090927519  linear_svr_RMSE  -2.536861696600336\n",
            "poly_svr_r2    0.7884319167368733   poly_svr_RMSE  -3.737225491965875\n",
            "rbf_svr_r2     0.8481899929262063    rbf_svr_RMSE  -3.063886973388292\n",
            "-------------------------------------------\n",
            "knn_cross_r2:  0.7800469754713542\n",
            "knn_cross_RMSE  -3.9120432362382664\n",
            "-------------------------------------------\n",
            "linear_cross_r2   0.9059803725470605\n",
            "linear_cross_RMSE   -0.0037335223006309468\n",
            "-------------------------------------------\n",
            "lasso_cross_r2   0.9054625086897719\n",
            "lasso_cross_RMSE   -0.0037335223006309468\n",
            "-------------------------------------------\n",
            "ridge_cross_r2   0.8979615558272978\n",
            "ridge_cross_RMSE   -0.003872758183215729\n",
            "-------------------------------------------\n",
            "elastic_cross_r2   0.905454948425126\n",
            "elastic_cross_RMSE   -0.0037336292953871024\n",
            "-------------------------------------------\n",
            "linear, Lasso, Ridge and ElasticNet had adjusted skewed to normal\n",
            "knn, linear, Lasso, Ridge and ElasticNet had adjusted the range with <class 'sklearn.preprocessing._data.MinMaxScaler'>\n",
            " 訓練資料 x_df 共 246 筆資料 ,欄位 :  Index(['age', 'height', 'weight', 'chest_width_cm', 'waist_width_cm',\n",
            "       'hip_width_cm', 'bmi'],\n",
            "      dtype='object')\n",
            " 訓練資料 y_df 共 246  ,欄位 :  waist\n"
          ],
          "name": "stdout"
        }
      ]
    },
    {
      "cell_type": "markdown",
      "metadata": {
        "id": "LNY8LNTTefRt"
      },
      "source": [
        "# 預測資料"
      ]
    },
    {
      "cell_type": "code",
      "metadata": {
        "id": "b_W5qqq0pgx-"
      },
      "source": [
        "### please adjust 'model_name' by yourself ! ###\n",
        "\n",
        "# u can choose : dt, rf, linear_svr, poly_svr, rbf_svr, knn, linear, lasso, ridge, elastic\n",
        "model_name = rf \n",
        "algorithm = str(model_name).split('(')[0]"
      ],
      "execution_count": null,
      "outputs": []
    },
    {
      "cell_type": "code",
      "metadata": {
        "colab": {
          "base_uri": "https://localhost:8080/"
        },
        "id": "DrUSYupqG1QQ",
        "outputId": "7cbcf38a-13d7-4cbc-d8c3-f53c187d0705"
      },
      "source": [
        "### 條件篩選 (挑選進入預測的資料) ###\n",
        "df = bw_df\n",
        "\n",
        "# 篩選性別欄位 m:0 f:1\n",
        "delete_idx = df.loc[df[\"gender\"] == 1].index.tolist() # 去掉以下欄位\n",
        "df = df.drop(index=delete_idx)\n",
        "\n",
        "# 篩選種族欄位 e:0 w:1\n",
        "# delete_idx = df.loc[df[\"race\"] == 1].index.tolist() # 去掉以下欄位\n",
        "# df = df.drop(index=delete_idx)\n",
        "\n",
        "# 篩選source欄位\n",
        "# c = '水下秤重'\n",
        "# delete_idx = df.loc[df[\"source\"] != c].index.tolist() \n",
        "# df = df.drop(index=delete_idx)\n",
        "\n",
        "# bfp < 5 刪除\n",
        "delete_idx = df.loc[df['bfp'] < 5].index.tolist()\n",
        "df = df.drop(index=delete_idx)\n",
        "\n",
        "print('df 共', len(df), '筆資料')"
      ],
      "execution_count": null,
      "outputs": [
        {
          "output_type": "stream",
          "text": [
            "df 共 256 筆資料\n"
          ],
          "name": "stdout"
        }
      ]
    },
    {
      "cell_type": "code",
      "metadata": {
        "colab": {
          "base_uri": "https://localhost:8080/"
        },
        "id": "aw54T-rU2Bfi",
        "outputId": "8955ad3a-1190-4486-d9e4-653f8eded255"
      },
      "source": [
        "### 欄位刪除 (挑選進入預測的欄位) ###\n",
        "\n",
        "# 刪除體脂率、org_img、gender、race、source\n",
        "predict_df = df[['age', 'height', 'weight', 'chest_width_cm', 'waist_width_cm', 'hip_width_cm', 'bmi']]\n",
        "\n",
        "print('完成資料與欄位挑選，將進入訓練的資料， predict_df 共', len(predict_df), '筆')\n",
        "print('predict_df 欄位 :', predict_df.columns)"
      ],
      "execution_count": null,
      "outputs": [
        {
          "output_type": "stream",
          "text": [
            "完成資料與欄位挑選，將進入訓練的資料， predict_df 共 256 筆\n",
            "predict_df 欄位 : Index(['age', 'height', 'weight', 'chest_width_cm', 'waist_width_cm',\n",
            "       'hip_width_cm', 'bmi'],\n",
            "      dtype='object')\n"
          ],
          "name": "stdout"
        }
      ]
    },
    {
      "cell_type": "code",
      "metadata": {
        "colab": {
          "base_uri": "https://localhost:8080/"
        },
        "id": "iqcm24JnRPoQ",
        "outputId": "f8b18283-e4d9-4a03-9fca-faa66b728c25"
      },
      "source": [
        "###　adjust skewed to normal ###\n",
        "\n",
        "need_adjust_skewed = ['LinearRegression', 'Lasso', 'Ridge', 'ElasticNet']\n",
        "\n",
        "if algorithm in need_adjust_skewed :\n",
        "  for i in predict_df.keys():\n",
        "    predict_df[i]= boxcox1p(predict_df[i], lamdas[i])\n",
        "  print('現在預測資料的演算法 :', algorithm, ', predict_df 已完成偏度調整')\n",
        "\n",
        "else:\n",
        "  print('現在預測資料的演算法 :', algorithm, ', predict_df 不須做偏度調整')"
      ],
      "execution_count": null,
      "outputs": [
        {
          "output_type": "stream",
          "text": [
            "現在預測資料的演算法 : RandomForestRegressor , predict_df 不須做偏度調整\n"
          ],
          "name": "stdout"
        }
      ]
    },
    {
      "cell_type": "code",
      "metadata": {
        "colab": {
          "base_uri": "https://localhost:8080/"
        },
        "id": "tMCSgqvmuWfW",
        "outputId": "a41bb14d-0983-476d-c690-caa09bbc502c"
      },
      "source": [
        "###　scaler ###\n",
        "need_scaler = ['LinearRegression', 'Lasso', 'Ridge', 'ElasticNet']\n",
        "\n",
        "if algorithm == 'KNeighborsRegressor':\n",
        "  predict_df = pd.DataFrame(knn_scaler.transform(predict_df), columns = predict_df.columns)\n",
        "  print('現在預測資料的演算法 :', algorithm, ' predict_df 已完成', scaler)\n",
        "\n",
        "elif algorithm in need_scaler:\n",
        "  predict_df = pd.DataFrame(linear_scaler.transform(predict_df), columns = predict_df.columns)\n",
        "  print('現在預測資料的演算法 :', algorithm, ' predict_df 已完成', scaler)\n",
        "\n",
        "else:\n",
        "  print('現在預測資料的演算法 :', algorithm, ' predict_df 不須做任何scaler')"
      ],
      "execution_count": null,
      "outputs": [
        {
          "output_type": "stream",
          "text": [
            "現在預測資料的演算法 : RandomForestRegressor  predict_df 不須做任何scaler\n"
          ],
          "name": "stdout"
        }
      ]
    },
    {
      "cell_type": "code",
      "metadata": {
        "id": "zIn1jBu30ZPj",
        "colab": {
          "base_uri": "https://localhost:8080/"
        },
        "outputId": "1477eb5a-035d-4b34-b146-1e1259a45254"
      },
      "source": [
        "### 進入模型預測體脂率 pre ###\n",
        "\n",
        "pre = model_name.predict(predict_df).round(4)\n",
        "\n",
        "need_inv_skewed = ['LinearRegression', 'Lasso', 'Ridge', 'ElasticNet']\n",
        "\n",
        "if algorithm in need_inv_skewed:\n",
        "  pre = inv_boxcox1p(pre, lamdas['waist'])\n",
        "  print('現在預測資料的演算法 :', algorithm, ' 預測值已完成偏度還原',)\n",
        "else:\n",
        "  print('現在預測資料的演算法 :', algorithm, ' 預測值不須調整偏度')"
      ],
      "execution_count": null,
      "outputs": [
        {
          "output_type": "stream",
          "text": [
            "現在預測資料的演算法 : RandomForestRegressor  預測值不須調整偏度\n"
          ],
          "name": "stdout"
        }
      ]
    },
    {
      "cell_type": "code",
      "metadata": {
        "id": "pGFvWx2SqqxP",
        "colab": {
          "base_uri": "https://localhost:8080/"
        },
        "outputId": "6de34210-7d73-46cb-bb83-e6438ed88cde"
      },
      "source": [
        "### 查看預測結果 & 輸出 output dataframe ###\n",
        "\n",
        "output = df\n",
        "# 調整waist欄位順序\n",
        "number_col = output.pop(df.columns[10])\n",
        "output.insert(14, number_col.name, number_col)\n",
        "\n",
        "output['pre_waist'] = pre\n",
        "output['pre_waist - real_waist'] = (output['pre_waist'] - output['waist']).abs()\n",
        "\n",
        "# 性別欄位 m:0 f:1 \n",
        "dic = { 0 : '男性', 1 : '女性'}\n",
        "output['gender'] = output['gender'].replace(dic)\n",
        "\n",
        "# 種族欄位 e:0 w:1 \n",
        "dic = { 0 : '東方人', 1 : '西方人'}\n",
        "output['race'] = output['race'].replace(dic)\n",
        "\n",
        "print('現在預測資料的演算法 :　', algorithm, ' ,使用的scaler :　', scaler)\n",
        "print('完成預測， output 共', len(output), '筆')"
      ],
      "execution_count": null,
      "outputs": [
        {
          "output_type": "stream",
          "text": [
            "現在預測資料的演算法 :　 RandomForestRegressor  ,使用的scaler :　 <class 'sklearn.preprocessing._data.MinMaxScaler'>\n",
            "完成預測， output 共 256 筆\n"
          ],
          "name": "stdout"
        }
      ]
    },
    {
      "cell_type": "code",
      "metadata": {
        "id": "yjUiXimrO1XZ",
        "colab": {
          "base_uri": "https://localhost:8080/"
        },
        "outputId": "8deb506c-5348-40a7-91fa-6d87f3cc6cbd"
      },
      "source": [
        "### 體脂肪誤差 > 5 ###\n",
        "print('體脂肪誤差 > 5 共', len(output[output['pre_waist - real_waist'] >= 5]), '筆資料')\n",
        "output[output['pre_waist - real_waist'] >= 5].sort_values(['pre_waist - real_waist'], ascending=False)"
      ],
      "execution_count": null,
      "outputs": [
        {
          "output_type": "stream",
          "text": [
            "體脂肪誤差 > 5 共 6 筆資料\n"
          ],
          "name": "stdout"
        },
        {
          "output_type": "execute_result",
          "data": {
            "text/html": [
              "<div>\n",
              "<style scoped>\n",
              "    .dataframe tbody tr th:only-of-type {\n",
              "        vertical-align: middle;\n",
              "    }\n",
              "\n",
              "    .dataframe tbody tr th {\n",
              "        vertical-align: top;\n",
              "    }\n",
              "\n",
              "    .dataframe thead th {\n",
              "        text-align: right;\n",
              "    }\n",
              "</style>\n",
              "<table border=\"1\" class=\"dataframe\">\n",
              "  <thead>\n",
              "    <tr style=\"text-align: right;\">\n",
              "      <th></th>\n",
              "      <th>org_img</th>\n",
              "      <th>age</th>\n",
              "      <th>gender</th>\n",
              "      <th>race</th>\n",
              "      <th>height</th>\n",
              "      <th>weight</th>\n",
              "      <th>chest_width_cm</th>\n",
              "      <th>waist_width_cm</th>\n",
              "      <th>hip_width_cm</th>\n",
              "      <th>chest</th>\n",
              "      <th>hips</th>\n",
              "      <th>bfp</th>\n",
              "      <th>source</th>\n",
              "      <th>bmi</th>\n",
              "      <th>waist</th>\n",
              "      <th>pre_waist</th>\n",
              "      <th>pre_waist - real_waist</th>\n",
              "    </tr>\n",
              "  </thead>\n",
              "  <tbody>\n",
              "    <tr>\n",
              "      <th>419</th>\n",
              "      <td>8704.jpg</td>\n",
              "      <td>24.0</td>\n",
              "      <td>男性</td>\n",
              "      <td>東方人</td>\n",
              "      <td>161.5</td>\n",
              "      <td>50.5</td>\n",
              "      <td>36.355</td>\n",
              "      <td>33.512</td>\n",
              "      <td>36.056</td>\n",
              "      <td>77.0</td>\n",
              "      <td>88.0</td>\n",
              "      <td>9.2</td>\n",
              "      <td>真人</td>\n",
              "      <td>19.361827</td>\n",
              "      <td>66.5</td>\n",
              "      <td>85.9736</td>\n",
              "      <td>19.4736</td>\n",
              "    </tr>\n",
              "    <tr>\n",
              "      <th>406</th>\n",
              "      <td>8691.jpg</td>\n",
              "      <td>26.0</td>\n",
              "      <td>男性</td>\n",
              "      <td>東方人</td>\n",
              "      <td>176.0</td>\n",
              "      <td>59.0</td>\n",
              "      <td>35.278</td>\n",
              "      <td>33.522</td>\n",
              "      <td>36.874</td>\n",
              "      <td>83.0</td>\n",
              "      <td>91.0</td>\n",
              "      <td>14.3</td>\n",
              "      <td>真人</td>\n",
              "      <td>19.047004</td>\n",
              "      <td>74.0</td>\n",
              "      <td>86.0841</td>\n",
              "      <td>12.0841</td>\n",
              "    </tr>\n",
              "    <tr>\n",
              "      <th>417</th>\n",
              "      <td>8702.jpg</td>\n",
              "      <td>24.0</td>\n",
              "      <td>男性</td>\n",
              "      <td>東方人</td>\n",
              "      <td>168.0</td>\n",
              "      <td>92.7</td>\n",
              "      <td>38.232</td>\n",
              "      <td>34.934</td>\n",
              "      <td>40.332</td>\n",
              "      <td>99.5</td>\n",
              "      <td>110.0</td>\n",
              "      <td>32.0</td>\n",
              "      <td>真人</td>\n",
              "      <td>32.844388</td>\n",
              "      <td>89.0</td>\n",
              "      <td>97.8777</td>\n",
              "      <td>8.8777</td>\n",
              "    </tr>\n",
              "    <tr>\n",
              "      <th>418</th>\n",
              "      <td>8703.jpg</td>\n",
              "      <td>29.0</td>\n",
              "      <td>男性</td>\n",
              "      <td>東方人</td>\n",
              "      <td>182.0</td>\n",
              "      <td>72.0</td>\n",
              "      <td>35.490</td>\n",
              "      <td>35.976</td>\n",
              "      <td>38.407</td>\n",
              "      <td>88.0</td>\n",
              "      <td>96.5</td>\n",
              "      <td>17.2</td>\n",
              "      <td>真人</td>\n",
              "      <td>21.736505</td>\n",
              "      <td>83.0</td>\n",
              "      <td>91.4338</td>\n",
              "      <td>8.4338</td>\n",
              "    </tr>\n",
              "    <tr>\n",
              "      <th>410</th>\n",
              "      <td>8695.jpg</td>\n",
              "      <td>29.0</td>\n",
              "      <td>男性</td>\n",
              "      <td>東方人</td>\n",
              "      <td>172.0</td>\n",
              "      <td>72.9</td>\n",
              "      <td>36.602</td>\n",
              "      <td>34.125</td>\n",
              "      <td>34.125</td>\n",
              "      <td>95.0</td>\n",
              "      <td>99.0</td>\n",
              "      <td>21.9</td>\n",
              "      <td>真人</td>\n",
              "      <td>24.641698</td>\n",
              "      <td>87.0</td>\n",
              "      <td>92.5857</td>\n",
              "      <td>5.5857</td>\n",
              "    </tr>\n",
              "    <tr>\n",
              "      <th>405</th>\n",
              "      <td>8690.jpg</td>\n",
              "      <td>24.0</td>\n",
              "      <td>男性</td>\n",
              "      <td>東方人</td>\n",
              "      <td>165.0</td>\n",
              "      <td>48.1</td>\n",
              "      <td>31.133</td>\n",
              "      <td>27.241</td>\n",
              "      <td>35.997</td>\n",
              "      <td>76.5</td>\n",
              "      <td>84.0</td>\n",
              "      <td>11.9</td>\n",
              "      <td>真人</td>\n",
              "      <td>17.667585</td>\n",
              "      <td>68.0</td>\n",
              "      <td>73.2654</td>\n",
              "      <td>5.2654</td>\n",
              "    </tr>\n",
              "  </tbody>\n",
              "</table>\n",
              "</div>"
            ],
            "text/plain": [
              "      org_img   age gender  ... waist  pre_waist  pre_waist - real_waist\n",
              "419  8704.jpg  24.0     男性  ...  66.5    85.9736                 19.4736\n",
              "406  8691.jpg  26.0     男性  ...  74.0    86.0841                 12.0841\n",
              "417  8702.jpg  24.0     男性  ...  89.0    97.8777                  8.8777\n",
              "418  8703.jpg  29.0     男性  ...  83.0    91.4338                  8.4338\n",
              "410  8695.jpg  29.0     男性  ...  87.0    92.5857                  5.5857\n",
              "405  8690.jpg  24.0     男性  ...  68.0    73.2654                  5.2654\n",
              "\n",
              "[6 rows x 17 columns]"
            ]
          },
          "metadata": {
            "tags": []
          },
          "execution_count": 37
        }
      ]
    },
    {
      "cell_type": "code",
      "metadata": {
        "id": "egypsAz2TXvM",
        "colab": {
          "base_uri": "https://localhost:8080/"
        },
        "outputId": "1c3e72a5-3ca2-4c4f-c9e0-db197d2fc4d4"
      },
      "source": [
        "### 真人的誤差 ###\n",
        "output[output['source'] == '真人'].sort_values(['pre_waist - real_waist'], ascending=False)"
      ],
      "execution_count": null,
      "outputs": [
        {
          "output_type": "execute_result",
          "data": {
            "text/html": [
              "<div>\n",
              "<style scoped>\n",
              "    .dataframe tbody tr th:only-of-type {\n",
              "        vertical-align: middle;\n",
              "    }\n",
              "\n",
              "    .dataframe tbody tr th {\n",
              "        vertical-align: top;\n",
              "    }\n",
              "\n",
              "    .dataframe thead th {\n",
              "        text-align: right;\n",
              "    }\n",
              "</style>\n",
              "<table border=\"1\" class=\"dataframe\">\n",
              "  <thead>\n",
              "    <tr style=\"text-align: right;\">\n",
              "      <th></th>\n",
              "      <th>org_img</th>\n",
              "      <th>age</th>\n",
              "      <th>gender</th>\n",
              "      <th>race</th>\n",
              "      <th>height</th>\n",
              "      <th>weight</th>\n",
              "      <th>chest_width_cm</th>\n",
              "      <th>waist_width_cm</th>\n",
              "      <th>hip_width_cm</th>\n",
              "      <th>chest</th>\n",
              "      <th>hips</th>\n",
              "      <th>bfp</th>\n",
              "      <th>source</th>\n",
              "      <th>bmi</th>\n",
              "      <th>waist</th>\n",
              "      <th>pre_waist</th>\n",
              "      <th>pre_waist - real_waist</th>\n",
              "    </tr>\n",
              "  </thead>\n",
              "  <tbody>\n",
              "    <tr>\n",
              "      <th>419</th>\n",
              "      <td>8704.jpg</td>\n",
              "      <td>24.0</td>\n",
              "      <td>男性</td>\n",
              "      <td>東方人</td>\n",
              "      <td>161.5</td>\n",
              "      <td>50.5</td>\n",
              "      <td>36.355</td>\n",
              "      <td>33.512</td>\n",
              "      <td>36.056</td>\n",
              "      <td>77.0</td>\n",
              "      <td>88.0</td>\n",
              "      <td>9.2</td>\n",
              "      <td>真人</td>\n",
              "      <td>19.361827</td>\n",
              "      <td>66.5</td>\n",
              "      <td>85.9736</td>\n",
              "      <td>19.4736</td>\n",
              "    </tr>\n",
              "    <tr>\n",
              "      <th>406</th>\n",
              "      <td>8691.jpg</td>\n",
              "      <td>26.0</td>\n",
              "      <td>男性</td>\n",
              "      <td>東方人</td>\n",
              "      <td>176.0</td>\n",
              "      <td>59.0</td>\n",
              "      <td>35.278</td>\n",
              "      <td>33.522</td>\n",
              "      <td>36.874</td>\n",
              "      <td>83.0</td>\n",
              "      <td>91.0</td>\n",
              "      <td>14.3</td>\n",
              "      <td>真人</td>\n",
              "      <td>19.047004</td>\n",
              "      <td>74.0</td>\n",
              "      <td>86.0841</td>\n",
              "      <td>12.0841</td>\n",
              "    </tr>\n",
              "    <tr>\n",
              "      <th>417</th>\n",
              "      <td>8702.jpg</td>\n",
              "      <td>24.0</td>\n",
              "      <td>男性</td>\n",
              "      <td>東方人</td>\n",
              "      <td>168.0</td>\n",
              "      <td>92.7</td>\n",
              "      <td>38.232</td>\n",
              "      <td>34.934</td>\n",
              "      <td>40.332</td>\n",
              "      <td>99.5</td>\n",
              "      <td>110.0</td>\n",
              "      <td>32.0</td>\n",
              "      <td>真人</td>\n",
              "      <td>32.844388</td>\n",
              "      <td>89.0</td>\n",
              "      <td>97.8777</td>\n",
              "      <td>8.8777</td>\n",
              "    </tr>\n",
              "    <tr>\n",
              "      <th>418</th>\n",
              "      <td>8703.jpg</td>\n",
              "      <td>29.0</td>\n",
              "      <td>男性</td>\n",
              "      <td>東方人</td>\n",
              "      <td>182.0</td>\n",
              "      <td>72.0</td>\n",
              "      <td>35.490</td>\n",
              "      <td>35.976</td>\n",
              "      <td>38.407</td>\n",
              "      <td>88.0</td>\n",
              "      <td>96.5</td>\n",
              "      <td>17.2</td>\n",
              "      <td>真人</td>\n",
              "      <td>21.736505</td>\n",
              "      <td>83.0</td>\n",
              "      <td>91.4338</td>\n",
              "      <td>8.4338</td>\n",
              "    </tr>\n",
              "    <tr>\n",
              "      <th>410</th>\n",
              "      <td>8695.jpg</td>\n",
              "      <td>29.0</td>\n",
              "      <td>男性</td>\n",
              "      <td>東方人</td>\n",
              "      <td>172.0</td>\n",
              "      <td>72.9</td>\n",
              "      <td>36.602</td>\n",
              "      <td>34.125</td>\n",
              "      <td>34.125</td>\n",
              "      <td>95.0</td>\n",
              "      <td>99.0</td>\n",
              "      <td>21.9</td>\n",
              "      <td>真人</td>\n",
              "      <td>24.641698</td>\n",
              "      <td>87.0</td>\n",
              "      <td>92.5857</td>\n",
              "      <td>5.5857</td>\n",
              "    </tr>\n",
              "    <tr>\n",
              "      <th>405</th>\n",
              "      <td>8690.jpg</td>\n",
              "      <td>24.0</td>\n",
              "      <td>男性</td>\n",
              "      <td>東方人</td>\n",
              "      <td>165.0</td>\n",
              "      <td>48.1</td>\n",
              "      <td>31.133</td>\n",
              "      <td>27.241</td>\n",
              "      <td>35.997</td>\n",
              "      <td>76.5</td>\n",
              "      <td>84.0</td>\n",
              "      <td>11.9</td>\n",
              "      <td>真人</td>\n",
              "      <td>17.667585</td>\n",
              "      <td>68.0</td>\n",
              "      <td>73.2654</td>\n",
              "      <td>5.2654</td>\n",
              "    </tr>\n",
              "    <tr>\n",
              "      <th>414</th>\n",
              "      <td>8699.jpg</td>\n",
              "      <td>28.0</td>\n",
              "      <td>男性</td>\n",
              "      <td>東方人</td>\n",
              "      <td>168.0</td>\n",
              "      <td>67.6</td>\n",
              "      <td>37.740</td>\n",
              "      <td>32.049</td>\n",
              "      <td>37.440</td>\n",
              "      <td>90.0</td>\n",
              "      <td>95.0</td>\n",
              "      <td>21.2</td>\n",
              "      <td>真人</td>\n",
              "      <td>23.951247</td>\n",
              "      <td>81.0</td>\n",
              "      <td>85.5387</td>\n",
              "      <td>4.5387</td>\n",
              "    </tr>\n",
              "    <tr>\n",
              "      <th>404</th>\n",
              "      <td>8689.jpg</td>\n",
              "      <td>29.0</td>\n",
              "      <td>男性</td>\n",
              "      <td>東方人</td>\n",
              "      <td>166.0</td>\n",
              "      <td>64.8</td>\n",
              "      <td>34.913</td>\n",
              "      <td>31.118</td>\n",
              "      <td>39.011</td>\n",
              "      <td>87.0</td>\n",
              "      <td>95.0</td>\n",
              "      <td>22.6</td>\n",
              "      <td>真人</td>\n",
              "      <td>23.515750</td>\n",
              "      <td>82.0</td>\n",
              "      <td>85.0447</td>\n",
              "      <td>3.0447</td>\n",
              "    </tr>\n",
              "    <tr>\n",
              "      <th>407</th>\n",
              "      <td>8692.jpg</td>\n",
              "      <td>23.0</td>\n",
              "      <td>男性</td>\n",
              "      <td>東方人</td>\n",
              "      <td>179.0</td>\n",
              "      <td>98.7</td>\n",
              "      <td>36.892</td>\n",
              "      <td>36.892</td>\n",
              "      <td>42.291</td>\n",
              "      <td>103.0</td>\n",
              "      <td>114.0</td>\n",
              "      <td>26.1</td>\n",
              "      <td>真人</td>\n",
              "      <td>30.804282</td>\n",
              "      <td>105.0</td>\n",
              "      <td>102.7042</td>\n",
              "      <td>2.2958</td>\n",
              "    </tr>\n",
              "    <tr>\n",
              "      <th>408</th>\n",
              "      <td>8693.jpg</td>\n",
              "      <td>29.0</td>\n",
              "      <td>男性</td>\n",
              "      <td>東方人</td>\n",
              "      <td>174.0</td>\n",
              "      <td>73.0</td>\n",
              "      <td>34.555</td>\n",
              "      <td>31.614</td>\n",
              "      <td>38.819</td>\n",
              "      <td>91.0</td>\n",
              "      <td>99.0</td>\n",
              "      <td>21.1</td>\n",
              "      <td>真人</td>\n",
              "      <td>24.111507</td>\n",
              "      <td>87.0</td>\n",
              "      <td>87.5460</td>\n",
              "      <td>0.5460</td>\n",
              "    </tr>\n",
              "  </tbody>\n",
              "</table>\n",
              "</div>"
            ],
            "text/plain": [
              "      org_img   age gender  ...  waist  pre_waist  pre_waist - real_waist\n",
              "419  8704.jpg  24.0     男性  ...   66.5    85.9736                 19.4736\n",
              "406  8691.jpg  26.0     男性  ...   74.0    86.0841                 12.0841\n",
              "417  8702.jpg  24.0     男性  ...   89.0    97.8777                  8.8777\n",
              "418  8703.jpg  29.0     男性  ...   83.0    91.4338                  8.4338\n",
              "410  8695.jpg  29.0     男性  ...   87.0    92.5857                  5.5857\n",
              "405  8690.jpg  24.0     男性  ...   68.0    73.2654                  5.2654\n",
              "414  8699.jpg  28.0     男性  ...   81.0    85.5387                  4.5387\n",
              "404  8689.jpg  29.0     男性  ...   82.0    85.0447                  3.0447\n",
              "407  8692.jpg  23.0     男性  ...  105.0   102.7042                  2.2958\n",
              "408  8693.jpg  29.0     男性  ...   87.0    87.5460                  0.5460\n",
              "\n",
              "[10 rows x 17 columns]"
            ]
          },
          "metadata": {
            "tags": []
          },
          "execution_count": 38
        }
      ]
    },
    {
      "cell_type": "markdown",
      "metadata": {
        "id": "iZVosSIK4IYY"
      },
      "source": [
        "# 存模型 >> 預測體脂肪\n",
        "模型與預測結果，直接倒進google drive"
      ]
    },
    {
      "cell_type": "code",
      "metadata": {
        "id": "7MkJaQ0ndB9T"
      },
      "source": [
        "# import time\n",
        "# from sklearn.externals import joblib\n",
        "# import datetime\n",
        "# import os\n",
        "# import json\n",
        "\n",
        "# now = datetime.datetime.now().strftime('%Y-%m-%d_%H:%M:%S') # 當前時間(注意為伺服器時間)\n",
        "# print('當前時間', now)\n",
        "\n",
        "# folder = algorithm # 以演算法區分資料夾\n",
        "# drive_path = os.path.join('/content/drive/Shareddrives/AI_Python/ishape/ai/step2/waist', folder)\n",
        "\n",
        "# if not os.path.exists(drive_path):\n",
        "#   os.makedirs(drive_path)\n",
        "\n",
        "# # 存模型\n",
        "# name_model = folder + '_pre_waist_' + str(now) + '.h5'\n",
        "# joblib.dump(model_name, os.path.join(drive_path, name_model))\n",
        "\n",
        "# if algorithm in ['KNeighborsRegressor', 'LinearRegression', 'Lasso', 'Ridge', 'ElasticNet']:\n",
        "\n",
        "#   if algorithm == 'KNeighborsRegressor':\n",
        "#     save_scaler = knn_scaler\n",
        "#   elif algorithm in ['LinearRegression', 'Lasso', 'Ridge', 'ElasticNet']:\n",
        "#     save_scaler = linear_scaler\n",
        "\n",
        "#     # 存skewness\n",
        "#     name_lamda = folder + '_lamda_' + str(now) + '.json'\n",
        "#     f = open(os.path.join(drive_path, name_lamda), \"w\", encoding=\"UTF-8\") #寫入\n",
        "#     json.dump(lamdas , f, ensure_ascii=False, indent=4) #輸出成json檔案\n",
        "#     f.close()\n",
        "#     print('已儲存lamdas 參數')\n",
        "\n",
        "\n",
        "#   # 存scaler\n",
        "#   name_scaler = folder + '_' + str(save_scaler).split('(')[0] + '_' + str(now) + '.h5'\n",
        "#   joblib.dump(save_scaler, os.path.join(drive_path, name_scaler))\n",
        "#   print('已儲存scaler model')"
      ],
      "execution_count": null,
      "outputs": []
    },
    {
      "cell_type": "markdown",
      "metadata": {
        "id": "TVrG3b1YGB1S"
      },
      "source": [
        "# 倒出預測結果"
      ]
    },
    {
      "cell_type": "code",
      "metadata": {
        "id": "eYYc3imf0EZ4"
      },
      "source": [
        "# ### 將預測結果倒出EXCEL 與模型位置同 ###\n",
        "# import os\n",
        "\n",
        "# table_name = name_model.split('.')[0] + '.xlsx' # Ridge_pre_bodyfat_2021-05-13_10:34:31.xlsx\n",
        "# writer = pd.ExcelWriter(os.path.join(drive_path, table_name), engine='openpyxl')\n",
        "# sheets =  y_df.name + '_' + str(len(df_input)) +  '_' + algorithm\n",
        "# output.to_excel(writer, sheet_name = sheets, index=False, encoding='utf-8')\n",
        "# writer.save()"
      ],
      "execution_count": null,
      "outputs": []
    }
  ]
}